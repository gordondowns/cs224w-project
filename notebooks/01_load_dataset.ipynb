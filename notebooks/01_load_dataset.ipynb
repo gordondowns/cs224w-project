{
 "cells": [
  {
   "cell_type": "code",
   "execution_count": 1,
   "metadata": {},
   "outputs": [],
   "source": [
    "# auto-reload changed source files when they are imported\n",
    "%reload_ext autoreload\n",
    "%autoreload 2\n",
    "\n",
    "# add top repo dir to path so that src can be imported\n",
    "import sys\n",
    "sys.path.append(\"..\")\n",
    "\n",
    "%matplotlib inline"
   ]
  },
  {
   "cell_type": "markdown",
   "metadata": {},
   "source": [
    "# Imports"
   ]
  },
  {
   "cell_type": "code",
   "execution_count": 3,
   "metadata": {},
   "outputs": [
    {
     "ename": "FileNotFoundError",
     "evalue": "[Errno 2] No such file or directory: 'data/raw/periodic_table_from_wikipedia.csv'",
     "output_type": "error",
     "traceback": [
      "\u001b[1;31m---------------------------------------------------------------------------\u001b[0m",
      "\u001b[1;31mFileNotFoundError\u001b[0m                         Traceback (most recent call last)",
      "\u001b[1;32m~\\AppData\\Local\\Temp/ipykernel_17096/936022306.py\u001b[0m in \u001b[0;36m<module>\u001b[1;34m\u001b[0m\n\u001b[1;32m----> 1\u001b[1;33m \u001b[1;32mfrom\u001b[0m \u001b[0msrc\u001b[0m\u001b[1;33m.\u001b[0m\u001b[0mdata\u001b[0m \u001b[1;32mimport\u001b[0m \u001b[0mload_raman_spectra\u001b[0m\u001b[1;33m,\u001b[0m \u001b[0mload_crystal_structures\u001b[0m\u001b[1;33m\u001b[0m\u001b[1;33m\u001b[0m\u001b[0m\n\u001b[0m\u001b[0;32m      2\u001b[0m \u001b[1;32mimport\u001b[0m \u001b[0mnumpy\u001b[0m \u001b[1;32mas\u001b[0m \u001b[0mnp\u001b[0m\u001b[1;33m\u001b[0m\u001b[1;33m\u001b[0m\u001b[0m\n\u001b[0;32m      3\u001b[0m \u001b[1;32mfrom\u001b[0m \u001b[0mcollections\u001b[0m \u001b[1;32mimport\u001b[0m \u001b[0mCounter\u001b[0m\u001b[1;33m\u001b[0m\u001b[1;33m\u001b[0m\u001b[0m\n\u001b[0;32m      4\u001b[0m \u001b[1;32mimport\u001b[0m \u001b[0mtorch_geometric\u001b[0m \u001b[1;32mas\u001b[0m \u001b[0mpyg\u001b[0m\u001b[1;33m\u001b[0m\u001b[1;33m\u001b[0m\u001b[0m\n\u001b[0;32m      5\u001b[0m \u001b[1;32mimport\u001b[0m \u001b[0mcodecs\u001b[0m\u001b[1;33m\u001b[0m\u001b[1;33m\u001b[0m\u001b[0m\n",
      "\u001b[1;32mc:\\Users\\gordon\\Desktop\\cs224w-project\\notebooks\\..\\src\\data\\load_crystal_structures.py\u001b[0m in \u001b[0;36m<module>\u001b[1;34m\u001b[0m\n\u001b[0;32m      9\u001b[0m \u001b[1;31m# get dicts from periodic table\u001b[0m\u001b[1;33m\u001b[0m\u001b[1;33m\u001b[0m\u001b[0m\n\u001b[0;32m     10\u001b[0m \u001b[1;31m# if '/content/cs224w-project' in sys.path:\u001b[0m\u001b[1;33m\u001b[0m\u001b[1;33m\u001b[0m\u001b[0m\n\u001b[1;32m---> 11\u001b[1;33m \u001b[0mdf\u001b[0m \u001b[1;33m=\u001b[0m \u001b[0mpd\u001b[0m\u001b[1;33m.\u001b[0m\u001b[0mread_csv\u001b[0m\u001b[1;33m(\u001b[0m\u001b[1;34m\"data/raw/periodic_table_from_wikipedia.csv\"\u001b[0m\u001b[1;33m)\u001b[0m\u001b[1;33m\u001b[0m\u001b[1;33m\u001b[0m\u001b[0m\n\u001b[0m\u001b[0;32m     12\u001b[0m \u001b[1;31m# else:\u001b[0m\u001b[1;33m\u001b[0m\u001b[1;33m\u001b[0m\u001b[0m\n\u001b[0;32m     13\u001b[0m     \u001b[1;31m# df = pd.read_csv(\"../data/raw/periodic_table_from_wikipedia.csv\")\u001b[0m\u001b[1;33m\u001b[0m\u001b[1;33m\u001b[0m\u001b[0m\n",
      "\u001b[1;32m~\\anaconda3\\envs\\cs224wproj\\lib\\site-packages\\pandas\\util\\_decorators.py\u001b[0m in \u001b[0;36mwrapper\u001b[1;34m(*args, **kwargs)\u001b[0m\n\u001b[0;32m    309\u001b[0m                     \u001b[0mstacklevel\u001b[0m\u001b[1;33m=\u001b[0m\u001b[0mstacklevel\u001b[0m\u001b[1;33m,\u001b[0m\u001b[1;33m\u001b[0m\u001b[1;33m\u001b[0m\u001b[0m\n\u001b[0;32m    310\u001b[0m                 )\n\u001b[1;32m--> 311\u001b[1;33m             \u001b[1;32mreturn\u001b[0m \u001b[0mfunc\u001b[0m\u001b[1;33m(\u001b[0m\u001b[1;33m*\u001b[0m\u001b[0margs\u001b[0m\u001b[1;33m,\u001b[0m \u001b[1;33m**\u001b[0m\u001b[0mkwargs\u001b[0m\u001b[1;33m)\u001b[0m\u001b[1;33m\u001b[0m\u001b[1;33m\u001b[0m\u001b[0m\n\u001b[0m\u001b[0;32m    312\u001b[0m \u001b[1;33m\u001b[0m\u001b[0m\n\u001b[0;32m    313\u001b[0m         \u001b[1;32mreturn\u001b[0m \u001b[0mwrapper\u001b[0m\u001b[1;33m\u001b[0m\u001b[1;33m\u001b[0m\u001b[0m\n",
      "\u001b[1;32m~\\anaconda3\\envs\\cs224wproj\\lib\\site-packages\\pandas\\io\\parsers\\readers.py\u001b[0m in \u001b[0;36mread_csv\u001b[1;34m(filepath_or_buffer, sep, delimiter, header, names, index_col, usecols, squeeze, prefix, mangle_dupe_cols, dtype, engine, converters, true_values, false_values, skipinitialspace, skiprows, skipfooter, nrows, na_values, keep_default_na, na_filter, verbose, skip_blank_lines, parse_dates, infer_datetime_format, keep_date_col, date_parser, dayfirst, cache_dates, iterator, chunksize, compression, thousands, decimal, lineterminator, quotechar, quoting, doublequote, escapechar, comment, encoding, encoding_errors, dialect, error_bad_lines, warn_bad_lines, on_bad_lines, delim_whitespace, low_memory, memory_map, float_precision, storage_options)\u001b[0m\n\u001b[0;32m    584\u001b[0m     \u001b[0mkwds\u001b[0m\u001b[1;33m.\u001b[0m\u001b[0mupdate\u001b[0m\u001b[1;33m(\u001b[0m\u001b[0mkwds_defaults\u001b[0m\u001b[1;33m)\u001b[0m\u001b[1;33m\u001b[0m\u001b[1;33m\u001b[0m\u001b[0m\n\u001b[0;32m    585\u001b[0m \u001b[1;33m\u001b[0m\u001b[0m\n\u001b[1;32m--> 586\u001b[1;33m     \u001b[1;32mreturn\u001b[0m \u001b[0m_read\u001b[0m\u001b[1;33m(\u001b[0m\u001b[0mfilepath_or_buffer\u001b[0m\u001b[1;33m,\u001b[0m \u001b[0mkwds\u001b[0m\u001b[1;33m)\u001b[0m\u001b[1;33m\u001b[0m\u001b[1;33m\u001b[0m\u001b[0m\n\u001b[0m\u001b[0;32m    587\u001b[0m \u001b[1;33m\u001b[0m\u001b[0m\n\u001b[0;32m    588\u001b[0m \u001b[1;33m\u001b[0m\u001b[0m\n",
      "\u001b[1;32m~\\anaconda3\\envs\\cs224wproj\\lib\\site-packages\\pandas\\io\\parsers\\readers.py\u001b[0m in \u001b[0;36m_read\u001b[1;34m(filepath_or_buffer, kwds)\u001b[0m\n\u001b[0;32m    480\u001b[0m \u001b[1;33m\u001b[0m\u001b[0m\n\u001b[0;32m    481\u001b[0m     \u001b[1;31m# Create the parser.\u001b[0m\u001b[1;33m\u001b[0m\u001b[1;33m\u001b[0m\u001b[0m\n\u001b[1;32m--> 482\u001b[1;33m     \u001b[0mparser\u001b[0m \u001b[1;33m=\u001b[0m \u001b[0mTextFileReader\u001b[0m\u001b[1;33m(\u001b[0m\u001b[0mfilepath_or_buffer\u001b[0m\u001b[1;33m,\u001b[0m \u001b[1;33m**\u001b[0m\u001b[0mkwds\u001b[0m\u001b[1;33m)\u001b[0m\u001b[1;33m\u001b[0m\u001b[1;33m\u001b[0m\u001b[0m\n\u001b[0m\u001b[0;32m    483\u001b[0m \u001b[1;33m\u001b[0m\u001b[0m\n\u001b[0;32m    484\u001b[0m     \u001b[1;32mif\u001b[0m \u001b[0mchunksize\u001b[0m \u001b[1;32mor\u001b[0m \u001b[0miterator\u001b[0m\u001b[1;33m:\u001b[0m\u001b[1;33m\u001b[0m\u001b[1;33m\u001b[0m\u001b[0m\n",
      "\u001b[1;32m~\\anaconda3\\envs\\cs224wproj\\lib\\site-packages\\pandas\\io\\parsers\\readers.py\u001b[0m in \u001b[0;36m__init__\u001b[1;34m(self, f, engine, **kwds)\u001b[0m\n\u001b[0;32m    809\u001b[0m             \u001b[0mself\u001b[0m\u001b[1;33m.\u001b[0m\u001b[0moptions\u001b[0m\u001b[1;33m[\u001b[0m\u001b[1;34m\"has_index_names\"\u001b[0m\u001b[1;33m]\u001b[0m \u001b[1;33m=\u001b[0m \u001b[0mkwds\u001b[0m\u001b[1;33m[\u001b[0m\u001b[1;34m\"has_index_names\"\u001b[0m\u001b[1;33m]\u001b[0m\u001b[1;33m\u001b[0m\u001b[1;33m\u001b[0m\u001b[0m\n\u001b[0;32m    810\u001b[0m \u001b[1;33m\u001b[0m\u001b[0m\n\u001b[1;32m--> 811\u001b[1;33m         \u001b[0mself\u001b[0m\u001b[1;33m.\u001b[0m\u001b[0m_engine\u001b[0m \u001b[1;33m=\u001b[0m \u001b[0mself\u001b[0m\u001b[1;33m.\u001b[0m\u001b[0m_make_engine\u001b[0m\u001b[1;33m(\u001b[0m\u001b[0mself\u001b[0m\u001b[1;33m.\u001b[0m\u001b[0mengine\u001b[0m\u001b[1;33m)\u001b[0m\u001b[1;33m\u001b[0m\u001b[1;33m\u001b[0m\u001b[0m\n\u001b[0m\u001b[0;32m    812\u001b[0m \u001b[1;33m\u001b[0m\u001b[0m\n\u001b[0;32m    813\u001b[0m     \u001b[1;32mdef\u001b[0m \u001b[0mclose\u001b[0m\u001b[1;33m(\u001b[0m\u001b[0mself\u001b[0m\u001b[1;33m)\u001b[0m\u001b[1;33m:\u001b[0m\u001b[1;33m\u001b[0m\u001b[1;33m\u001b[0m\u001b[0m\n",
      "\u001b[1;32m~\\anaconda3\\envs\\cs224wproj\\lib\\site-packages\\pandas\\io\\parsers\\readers.py\u001b[0m in \u001b[0;36m_make_engine\u001b[1;34m(self, engine)\u001b[0m\n\u001b[0;32m   1038\u001b[0m             )\n\u001b[0;32m   1039\u001b[0m         \u001b[1;31m# error: Too many arguments for \"ParserBase\"\u001b[0m\u001b[1;33m\u001b[0m\u001b[1;33m\u001b[0m\u001b[0m\n\u001b[1;32m-> 1040\u001b[1;33m         \u001b[1;32mreturn\u001b[0m \u001b[0mmapping\u001b[0m\u001b[1;33m[\u001b[0m\u001b[0mengine\u001b[0m\u001b[1;33m]\u001b[0m\u001b[1;33m(\u001b[0m\u001b[0mself\u001b[0m\u001b[1;33m.\u001b[0m\u001b[0mf\u001b[0m\u001b[1;33m,\u001b[0m \u001b[1;33m**\u001b[0m\u001b[0mself\u001b[0m\u001b[1;33m.\u001b[0m\u001b[0moptions\u001b[0m\u001b[1;33m)\u001b[0m  \u001b[1;31m# type: ignore[call-arg]\u001b[0m\u001b[1;33m\u001b[0m\u001b[1;33m\u001b[0m\u001b[0m\n\u001b[0m\u001b[0;32m   1041\u001b[0m \u001b[1;33m\u001b[0m\u001b[0m\n\u001b[0;32m   1042\u001b[0m     \u001b[1;32mdef\u001b[0m \u001b[0m_failover_to_python\u001b[0m\u001b[1;33m(\u001b[0m\u001b[0mself\u001b[0m\u001b[1;33m)\u001b[0m\u001b[1;33m:\u001b[0m\u001b[1;33m\u001b[0m\u001b[1;33m\u001b[0m\u001b[0m\n",
      "\u001b[1;32m~\\anaconda3\\envs\\cs224wproj\\lib\\site-packages\\pandas\\io\\parsers\\c_parser_wrapper.py\u001b[0m in \u001b[0;36m__init__\u001b[1;34m(self, src, **kwds)\u001b[0m\n\u001b[0;32m     49\u001b[0m \u001b[1;33m\u001b[0m\u001b[0m\n\u001b[0;32m     50\u001b[0m         \u001b[1;31m# open handles\u001b[0m\u001b[1;33m\u001b[0m\u001b[1;33m\u001b[0m\u001b[0m\n\u001b[1;32m---> 51\u001b[1;33m         \u001b[0mself\u001b[0m\u001b[1;33m.\u001b[0m\u001b[0m_open_handles\u001b[0m\u001b[1;33m(\u001b[0m\u001b[0msrc\u001b[0m\u001b[1;33m,\u001b[0m \u001b[0mkwds\u001b[0m\u001b[1;33m)\u001b[0m\u001b[1;33m\u001b[0m\u001b[1;33m\u001b[0m\u001b[0m\n\u001b[0m\u001b[0;32m     52\u001b[0m         \u001b[1;32massert\u001b[0m \u001b[0mself\u001b[0m\u001b[1;33m.\u001b[0m\u001b[0mhandles\u001b[0m \u001b[1;32mis\u001b[0m \u001b[1;32mnot\u001b[0m \u001b[1;32mNone\u001b[0m\u001b[1;33m\u001b[0m\u001b[1;33m\u001b[0m\u001b[0m\n\u001b[0;32m     53\u001b[0m \u001b[1;33m\u001b[0m\u001b[0m\n",
      "\u001b[1;32m~\\anaconda3\\envs\\cs224wproj\\lib\\site-packages\\pandas\\io\\parsers\\base_parser.py\u001b[0m in \u001b[0;36m_open_handles\u001b[1;34m(self, src, kwds)\u001b[0m\n\u001b[0;32m    220\u001b[0m         \u001b[0mLet\u001b[0m \u001b[0mthe\u001b[0m \u001b[0mreaders\u001b[0m \u001b[0mopen\u001b[0m \u001b[0mIOHandles\u001b[0m \u001b[0mafter\u001b[0m \u001b[0mthey\u001b[0m \u001b[0mare\u001b[0m \u001b[0mdone\u001b[0m \u001b[1;32mwith\u001b[0m \u001b[0mtheir\u001b[0m \u001b[0mpotential\u001b[0m \u001b[0mraises\u001b[0m\u001b[1;33m.\u001b[0m\u001b[1;33m\u001b[0m\u001b[1;33m\u001b[0m\u001b[0m\n\u001b[0;32m    221\u001b[0m         \"\"\"\n\u001b[1;32m--> 222\u001b[1;33m         self.handles = get_handle(\n\u001b[0m\u001b[0;32m    223\u001b[0m             \u001b[0msrc\u001b[0m\u001b[1;33m,\u001b[0m\u001b[1;33m\u001b[0m\u001b[1;33m\u001b[0m\u001b[0m\n\u001b[0;32m    224\u001b[0m             \u001b[1;34m\"r\"\u001b[0m\u001b[1;33m,\u001b[0m\u001b[1;33m\u001b[0m\u001b[1;33m\u001b[0m\u001b[0m\n",
      "\u001b[1;32m~\\anaconda3\\envs\\cs224wproj\\lib\\site-packages\\pandas\\io\\common.py\u001b[0m in \u001b[0;36mget_handle\u001b[1;34m(path_or_buf, mode, encoding, compression, memory_map, is_text, errors, storage_options)\u001b[0m\n\u001b[0;32m    700\u001b[0m         \u001b[1;32mif\u001b[0m \u001b[0mioargs\u001b[0m\u001b[1;33m.\u001b[0m\u001b[0mencoding\u001b[0m \u001b[1;32mand\u001b[0m \u001b[1;34m\"b\"\u001b[0m \u001b[1;32mnot\u001b[0m \u001b[1;32min\u001b[0m \u001b[0mioargs\u001b[0m\u001b[1;33m.\u001b[0m\u001b[0mmode\u001b[0m\u001b[1;33m:\u001b[0m\u001b[1;33m\u001b[0m\u001b[1;33m\u001b[0m\u001b[0m\n\u001b[0;32m    701\u001b[0m             \u001b[1;31m# Encoding\u001b[0m\u001b[1;33m\u001b[0m\u001b[1;33m\u001b[0m\u001b[0m\n\u001b[1;32m--> 702\u001b[1;33m             handle = open(\n\u001b[0m\u001b[0;32m    703\u001b[0m                 \u001b[0mhandle\u001b[0m\u001b[1;33m,\u001b[0m\u001b[1;33m\u001b[0m\u001b[1;33m\u001b[0m\u001b[0m\n\u001b[0;32m    704\u001b[0m                 \u001b[0mioargs\u001b[0m\u001b[1;33m.\u001b[0m\u001b[0mmode\u001b[0m\u001b[1;33m,\u001b[0m\u001b[1;33m\u001b[0m\u001b[1;33m\u001b[0m\u001b[0m\n",
      "\u001b[1;31mFileNotFoundError\u001b[0m: [Errno 2] No such file or directory: 'data/raw/periodic_table_from_wikipedia.csv'"
     ]
    }
   ],
   "source": [
    "from src.data import load_raman_spectra, load_crystal_structures\n",
    "import numpy as np\n",
    "from collections import Counter\n",
    "import torch_geometric as pyg\n",
    "import codecs\n",
    "import torch\n",
    "from src.visualization import plotting"
   ]
  },
  {
   "cell_type": "markdown",
   "metadata": {},
   "source": [
    "# Raman"
   ]
  },
  {
   "cell_type": "code",
   "execution_count": 3,
   "metadata": {},
   "outputs": [],
   "source": [
    "model_wavenumber_values = np.load('../data/processed/wavenumber_vals_v3.npy')\n",
    "chosen_wavelength = 514\n",
    "raman_file_paths, raman_mineral_names, raman_spectra, raman_wavelengths = load_raman_spectra.load_raman_data(model_wavenumber_values,wavelength=chosen_wavelength)"
   ]
  },
  {
   "cell_type": "code",
   "execution_count": 4,
   "metadata": {},
   "outputs": [
    {
     "name": "stdout",
     "output_type": "stream",
     "text": [
      "A Raman spectrum of Actinolite:\n"
     ]
    },
    {
     "data": {
      "image/png": "[encoded data removed]",
      "text/plain": [
       "<Figure size 432x288 with 1 Axes>"
      ]
     },
     "metadata": {
      "needs_background": "light"
     },
     "output_type": "display_data"
    }
   ],
   "source": [
    "print(f\"A Raman spectrum of {raman_mineral_names[0]}:\")\n",
    "plotting.plot_spectra([(x,y) for x,y in zip(model_wavenumber_values,raman_spectra[0])], legend=False)"
   ]
  },
  {
   "cell_type": "code",
   "execution_count": 4,
   "metadata": {},
   "outputs": [
    {
     "ename": "NameError",
     "evalue": "name 'raman_mineral_names' is not defined",
     "output_type": "error",
     "traceback": [
      "\u001b[1;31m---------------------------------------------------------------------------\u001b[0m",
      "\u001b[1;31mNameError\u001b[0m                                 Traceback (most recent call last)",
      "\u001b[1;32m~\\AppData\\Local\\Temp/ipykernel_17096/1980039520.py\u001b[0m in \u001b[0;36m<module>\u001b[1;34m\u001b[0m\n\u001b[1;32m----> 1\u001b[1;33m \u001b[0mprint\u001b[0m\u001b[1;33m(\u001b[0m\u001b[0mlen\u001b[0m\u001b[1;33m(\u001b[0m\u001b[0mraman_mineral_names\u001b[0m\u001b[1;33m)\u001b[0m\u001b[1;33m,\u001b[0m \u001b[1;34m\"Raman spectra loaded, each of length\"\u001b[0m\u001b[1;33m,\u001b[0m \u001b[0mlen\u001b[0m\u001b[1;33m(\u001b[0m\u001b[0mraman_spectra\u001b[0m\u001b[1;33m[\u001b[0m\u001b[1;36m0\u001b[0m\u001b[1;33m]\u001b[0m\u001b[1;33m)\u001b[0m\u001b[1;33m)\u001b[0m\u001b[1;33m\u001b[0m\u001b[1;33m\u001b[0m\u001b[0m\n\u001b[0m\u001b[0;32m      2\u001b[0m \u001b[1;31m# print(\"wavelengths:\",dict(Counter(raman_wavelengths)))\u001b[0m\u001b[1;33m\u001b[0m\u001b[1;33m\u001b[0m\u001b[0m\n\u001b[0;32m      3\u001b[0m \u001b[1;31m# print(\"minerals:\",dict(Counter(raman_mineral_names)))\u001b[0m\u001b[1;33m\u001b[0m\u001b[1;33m\u001b[0m\u001b[0m\n",
      "\u001b[1;31mNameError\u001b[0m: name 'raman_mineral_names' is not defined"
     ]
    }
   ],
   "source": [
    "print(len(raman_mineral_names), \"Raman spectra loaded, each of length\", len(raman_spectra[0]))\n",
    "# print(\"wavelengths:\",dict(Counter(raman_wavelengths)))\n",
    "# print(\"minerals:\",dict(Counter(raman_mineral_names)))"
   ]
  },
  {
   "cell_type": "markdown",
   "metadata": {},
   "source": [
    "# Crystal structures"
   ]
  },
  {
   "cell_type": "code",
   "execution_count": 2,
   "metadata": {},
   "outputs": [
    {
     "ename": "NameError",
     "evalue": "name 'load_crystal_structures' is not defined",
     "output_type": "error",
     "traceback": [
      "\u001b[1;31m---------------------------------------------------------------------------\u001b[0m",
      "\u001b[1;31mNameError\u001b[0m                                 Traceback (most recent call last)",
      "\u001b[1;32m~\\AppData\\Local\\Temp/ipykernel_17096/900328273.py\u001b[0m in \u001b[0;36m<module>\u001b[1;34m\u001b[0m\n\u001b[0;32m      1\u001b[0m \u001b[0mfp\u001b[0m \u001b[1;33m=\u001b[0m \u001b[1;34m\"../data/raw/CIFs2/Durangite0019593.cif\"\u001b[0m\u001b[1;33m\u001b[0m\u001b[1;33m\u001b[0m\u001b[0m\n\u001b[1;32m----> 2\u001b[1;33m \u001b[0mmineral_name\u001b[0m\u001b[1;33m,\u001b[0m \u001b[0mG\u001b[0m \u001b[1;33m=\u001b[0m \u001b[0mload_crystal_structures\u001b[0m\u001b[1;33m.\u001b[0m\u001b[0mload_single_crystal_structure\u001b[0m\u001b[1;33m(\u001b[0m\u001b[0mfp\u001b[0m\u001b[1;33m,\u001b[0m\u001b[0mverbose\u001b[0m\u001b[1;33m=\u001b[0m\u001b[1;32mTrue\u001b[0m\u001b[1;33m)\u001b[0m\u001b[1;33m\u001b[0m\u001b[1;33m\u001b[0m\u001b[0m\n\u001b[0m",
      "\u001b[1;31mNameError\u001b[0m: name 'load_crystal_structures' is not defined"
     ]
    }
   ],
   "source": [
    "fp = \"../data/raw/CIFs2/Durangite0019593.cif\"\n",
    "mineral_name, G = load_crystal_structures.load_single_crystal_structure(fp,verbose=True)"
   ]
  },
  {
   "cell_type": "code",
   "execution_count": 7,
   "metadata": {},
   "outputs": [
    {
     "name": "stderr",
     "output_type": "stream",
     "text": [
      "12:0: Trying to find one of data_value_1, start_sc_line\n",
      ">  _journal_page_last 289; doi:10.3390/cryst807\n",
      ">  ^\n",
      "12:0: Trying to find one of data_value_1, start_sc_line\n",
      ">  _journal_page_last 289; doi:10.3390/cryst807\n",
      ">  ^\n",
      "12:0: Trying to find one of data_value_1, start_sc_line\n",
      ">  _journal_page_last 289; doi:10.3390/cryst807\n",
      ">  ^\n",
      "12:0: Trying to find one of data_value_1, start_sc_line\n",
      ">  _journal_page_last 289; doi:10.3390/cryst807\n",
      ">  ^\n",
      "12:0: Trying to find one of data_value_1, start_sc_line\n",
      ">  _journal_page_last 289; doi:10.3390/cryst807\n",
      ">  ^\n",
      "12:0: Trying to find one of data_value_1, start_sc_line\n",
      ">  _journal_page_last 289; doi:10.3390/cryst807\n",
      ">  ^\n",
      "12:0: Trying to find one of data_value_1, start_sc_line\n",
      ">  _journal_page_last 289; doi:10.3390/cryst807\n",
      ">  ^\n",
      "12:0: Trying to find one of data_value_1, start_sc_line\n",
      ">  _journal_page_last 289; doi:10.3390/cryst807\n",
      ">  ^\n",
      "12:0: Trying to find one of data_value_1, start_sc_line\n",
      ">  _journal_page_last 289; doi:10.3390/cryst807\n",
      ">  ^\n",
      "12:0: Trying to find one of data_value_1, start_sc_line\n",
      ">  _journal_page_last 289; doi:10.3390/cryst807\n",
      ">  ^\n",
      "12:0: Trying to find one of data_value_1, start_sc_line\n",
      ">  _journal_page_last 289; doi:10.3390/cryst807\n",
      ">  ^\n",
      "12:0: Trying to find one of data_value_1, start_sc_line\n",
      ">  _journal_page_last 289; doi:10.3390/cryst807\n",
      ">  ^\n",
      "12:0: Trying to find one of data_value_1, start_sc_line\n",
      ">  _journal_page_last 289; doi:10.3390/cryst807\n",
      ">  ^\n",
      "12:0: Trying to find one of data_value_1, start_sc_line\n",
      ">  _journal_page_last 289; doi:10.3390/cryst807\n",
      ">  ^\n",
      "12:0: Trying to find one of data_value_1, start_sc_line\n",
      ">  _journal_page_last 289; doi:10.3390/cryst807\n",
      ">  ^\n",
      "12:0: Trying to find one of data_value_1, start_sc_line\n",
      ">  _journal_page_last 289; doi:10.3390/cryst807\n",
      ">  ^\n",
      "12:0: Trying to find one of data_value_1, start_sc_line\n",
      ">  _journal_page_last 289; doi:10.3390/cryst807\n",
      ">  ^\n",
      "12:0: Trying to find one of data_value_1, start_sc_line\n",
      ">  _journal_page_last 289; doi:10.3390/cryst807\n",
      ">  ^\n",
      "12:0: Trying to find one of data_value_1, start_sc_line\n",
      ">  _journal_page_last 289; doi:10.3390/cryst807\n",
      ">  ^\n",
      "12:0: Trying to find one of data_value_1, start_sc_line\n",
      ">  _journal_page_last 289; doi:10.3390/cryst807\n",
      ">  ^\n",
      "12:0: Trying to find one of data_value_1, start_sc_line\n",
      ">  _journal_page_last 289; doi:10.3390/cryst807\n",
      ">  ^\n",
      "12:0: Trying to find one of data_value_1, start_sc_line\n",
      ">  _journal_page_last 289; doi:10.3390/cryst807\n",
      ">  ^\n",
      "12:0: Trying to find one of data_value_1, start_sc_line\n",
      ">  _journal_page_last 289; doi:10.3390/cryst807\n",
      ">  ^\n",
      "12:0: Trying to find one of data_value_1, start_sc_line\n",
      ">  _journal_page_last 289; doi:10.3390/cryst807\n",
      ">  ^\n",
      "12:0: Trying to find one of data_value_1, start_sc_line\n",
      ">  _journal_page_last 289; doi:10.3390/cryst807\n",
      ">  ^\n",
      "12:0: Trying to find one of data_value_1, start_sc_line\n",
      ">  _journal_page_last 289; doi:10.3390/cryst807\n",
      ">  ^\n",
      "23:0: Trying to find one of data_value_1, start_sc_line\n",
      ">  _chemical_compound_source 'Synthetic'\n",
      ">  ^\n",
      "23:0: Trying to find one of data_value_1, start_sc_line\n",
      ">  _chemical_compound_source 'Synthetic'\n",
      ">  ^\n",
      "14:27: Trying to find one of LBLOCK, data_name, save_heading, save_end, END, data_heading\n",
      ">  _journal_page_first L24307 1\n",
      ">                             ^\n",
      "14:27: Trying to find one of LBLOCK, data_name, save_heading, save_end, END, data_heading\n",
      ">  _journal_page_first L24307 1\n",
      ">                             ^\n",
      "14:27: Trying to find one of LBLOCK, data_name, save_heading, save_end, END, data_heading\n",
      ">  _journal_page_first L24307 1\n",
      ">                             ^\n",
      "14:27: Trying to find one of LBLOCK, data_name, save_heading, save_end, END, data_heading\n",
      ">  _journal_page_first L24307 1\n",
      ">                             ^\n",
      "14:0: Trying to find one of data_value_1, start_sc_line\n",
      ">  _journal_page_last 164516\n",
      ">  ^\n",
      "14:0: Trying to find one of data_value_1, start_sc_line\n",
      ">  _journal_page_last 164516\n",
      ">  ^\n",
      "Incorrect number of loop values for loop containing ['_atom_site_label', '_atom_site_fract_x', '_atom_site_fract_y', '_atom_site_fract_z', '_atom_site_occupancy', '_atom_site_U_iso_or_equiv']\n",
      "Traceback (most recent call last):\n",
      "  File \"C:\\Users\\gordon\\anaconda3\\envs\\cs224wproj\\lib\\site-packages\\CifFile\\YappsStarParser_1_1.py\", line 80, in makeloop\n",
      "    target_block.CreateLoop(loop_seq)  #will raise ValueError on problem\n",
      "  File \"C:\\Users\\gordon\\anaconda3\\envs\\cs224wproj\\lib\\site-packages\\CifFile\\StarFile.py\", line 771, in CreateLoop\n",
      "    raise ValueError('Request to loop datanames %s with different lengths: %s' % (repr( datanames ),repr( len_set )))\n",
      "ValueError: Request to loop datanames ['_atom_site_label', '_atom_site_fract_x', '_atom_site_fract_y', '_atom_site_fract_z', '_atom_site_occupancy', '_atom_site_U_iso_or_equiv'] with different lengths: {27, 28}\n",
      "\n",
      "During handling of the above exception, another exception occurred:\n",
      "\n",
      "Traceback (most recent call last):\n",
      "  File \"C:\\Users\\gordon\\anaconda3\\envs\\cs224wproj\\lib\\site-packages\\CifFile\\StarFile.py\", line 2250, in ReadStar\n",
      "    proto_star = getattr(parser,\"input\")(prepared)\n",
      "  File \"C:\\Users\\gordon\\anaconda3\\envs\\cs224wproj\\lib\\site-packages\\CifFile\\YappsStarParser_1_1.py\", line 162, in input\n",
      "    dblock = self.dblock(prepared, _context)\n",
      "  File \"C:\\Users\\gordon\\anaconda3\\envs\\cs224wproj\\lib\\site-packages\\CifFile\\YappsStarParser_1_1.py\", line 182, in dblock\n",
      "    dataseq = self.dataseq(thisbc[heading], _context)\n",
      "  File \"C:\\Users\\gordon\\anaconda3\\envs\\cs224wproj\\lib\\site-packages\\CifFile\\YappsStarParser_1_1.py\", line 194, in dataseq\n",
      "    data = self.data(starblock, _context)\n",
      "  File \"C:\\Users\\gordon\\anaconda3\\envs\\cs224wproj\\lib\\site-packages\\CifFile\\YappsStarParser_1_1.py\", line 203, in data\n",
      "    makeloop(currentblock,top_loop)\n",
      "  File \"C:\\Users\\gordon\\anaconda3\\envs\\cs224wproj\\lib\\site-packages\\CifFile\\YappsStarParser_1_1.py\", line 84, in makeloop\n",
      "    raise ValueError(error_string)\n",
      "ValueError: Incorrect number of loop values for loop containing ['_atom_site_label', '_atom_site_fract_x', '_atom_site_fract_y', '_atom_site_fract_z', '_atom_site_occupancy', '_atom_site_U_iso_or_equiv']\n",
      "Incorrect number of loop values for loop containing ['_atom_site_label', '_atom_site_fract_x', '_atom_site_fract_y', '_atom_site_fract_z', '_atom_site_occupancy', '_atom_site_U_iso_or_equiv']\n",
      "Traceback (most recent call last):\n",
      "  File \"C:\\Users\\gordon\\anaconda3\\envs\\cs224wproj\\lib\\site-packages\\CifFile\\YappsStarParser_1_0.py\", line 80, in makeloop\n",
      "    target_block.CreateLoop(loop_seq)  #will raise ValueError on problem\n",
      "  File \"C:\\Users\\gordon\\anaconda3\\envs\\cs224wproj\\lib\\site-packages\\CifFile\\StarFile.py\", line 771, in CreateLoop\n",
      "    raise ValueError('Request to loop datanames %s with different lengths: %s' % (repr( datanames ),repr( len_set )))\n",
      "ValueError: Request to loop datanames ['_atom_site_label', '_atom_site_fract_x', '_atom_site_fract_y', '_atom_site_fract_z', '_atom_site_occupancy', '_atom_site_U_iso_or_equiv'] with different lengths: {27, 28}\n",
      "\n",
      "During handling of the above exception, another exception occurred:\n",
      "\n",
      "Traceback (most recent call last):\n",
      "  File \"C:\\Users\\gordon\\anaconda3\\envs\\cs224wproj\\lib\\site-packages\\CifFile\\StarFile.py\", line 2250, in ReadStar\n",
      "    proto_star = getattr(parser,\"input\")(prepared)\n",
      "  File \"C:\\Users\\gordon\\anaconda3\\envs\\cs224wproj\\lib\\site-packages\\CifFile\\YappsStarParser_1_0.py\", line 162, in input\n",
      "    dblock = self.dblock(prepared, _context)\n",
      "  File \"C:\\Users\\gordon\\anaconda3\\envs\\cs224wproj\\lib\\site-packages\\CifFile\\YappsStarParser_1_0.py\", line 182, in dblock\n",
      "    dataseq = self.dataseq(thisbc[heading], _context)\n",
      "  File \"C:\\Users\\gordon\\anaconda3\\envs\\cs224wproj\\lib\\site-packages\\CifFile\\YappsStarParser_1_0.py\", line 194, in dataseq\n",
      "    data = self.data(starblock, _context)\n",
      "  File \"C:\\Users\\gordon\\anaconda3\\envs\\cs224wproj\\lib\\site-packages\\CifFile\\YappsStarParser_1_0.py\", line 203, in data\n",
      "    makeloop(currentblock,top_loop)\n",
      "  File \"C:\\Users\\gordon\\anaconda3\\envs\\cs224wproj\\lib\\site-packages\\CifFile\\YappsStarParser_1_0.py\", line 84, in makeloop\n",
      "    raise ValueError(error_string)\n",
      "ValueError: Incorrect number of loop values for loop containing ['_atom_site_label', '_atom_site_fract_x', '_atom_site_fract_y', '_atom_site_fract_z', '_atom_site_occupancy', '_atom_site_U_iso_or_equiv']\n"
     ]
    },
    {
     "name": "stdout",
     "output_type": "stream",
     "text": [
      "Unexpected error:\n",
      "Unexpected error:\n"
     ]
    },
    {
     "name": "stderr",
     "output_type": "stream",
     "text": [
      "13:0: Trying to find one of data_value_1, start_sc_line\n",
      ">  _journal_page_last 8\n",
      ">  ^\n",
      "13:0: Trying to find one of data_value_1, start_sc_line\n",
      ">  _journal_page_last 8\n",
      ">  ^\n",
      "14:0: Trying to find one of data_value_1, start_sc_line\n",
      ">  _journal_page_last 33\n",
      ">  ^\n",
      "14:0: Trying to find one of data_value_1, start_sc_line\n",
      ">  _journal_page_last 33\n",
      ">  ^\n",
      "15:0: Trying to find one of data_value_1, start_sc_line\n",
      ">  _journal_page_last doi:10.3390\n",
      ">  ^\n",
      "15:0: Trying to find one of data_value_1, start_sc_line\n",
      ">  _journal_page_last doi:10.3390\n",
      ">  ^\n",
      "15:0: Trying to find one of data_value_1, start_sc_line\n",
      ">  _journal_page_last doi:10.3390\n",
      ">  ^\n",
      "15:0: Trying to find one of data_value_1, start_sc_line\n",
      ">  _journal_page_last doi:10.3390\n",
      ">  ^\n",
      "15:0: Trying to find one of data_value_1, start_sc_line\n",
      ">  _journal_page_last doi:10.3390\n",
      ">  ^\n",
      "15:0: Trying to find one of data_value_1, start_sc_line\n",
      ">  _journal_page_last doi:10.3390\n",
      ">  ^\n",
      "11:0: Trying to find one of data_value_1, start_sc_line\n",
      ">  _journal_year 1974\n",
      ">  ^\n",
      "11:0: Trying to find one of data_value_1, start_sc_line\n",
      ">  _journal_year 1974\n",
      ">  ^\n"
     ]
    }
   ],
   "source": [
    "cif_mineral_names = []\n",
    "cif_graphs = []\n",
    "big_cif_file_path = '../data/raw/cifdata.txt'\n",
    "temp_file_path = '../data/raw/tempcif.txt'\n",
    "cur_mineral_name = ''\n",
    "cur_cif_lines = []\n",
    "with open(big_cif_file_path,'r',errors='ignore') as f:\n",
    "    for line in f:\n",
    "        if line.startswith(\"_chemical_formula_sum ''\"):\n",
    "            continue\n",
    "        if line.startswith('_chemical_name_mineral'):\n",
    "            cur_mineral_name = line.split(\"'\")[1]\n",
    "        if line.startswith('_amcsd_formula_title '):\n",
    "            cur_mineral_name = line.split(\"'\")[1]\n",
    "        if line.startswith('END'):\n",
    "            try:\n",
    "                with codecs.open(temp_file_path,'w','utf-8') as out:\n",
    "                    out.write(''.join(cur_cif_lines))\n",
    "                _,G = load_crystal_structures.load_single_crystal_structure(\n",
    "                                                temp_file_path,\n",
    "                                                min_distance_for_edge=-1,\n",
    "                                                max_distance_for_edge=np.inf,\n",
    "                                                )\n",
    "                cif_graphs.append(G)\n",
    "                cif_mineral_names.append(cur_mineral_name)\n",
    "            except:\n",
    "                pass\n",
    "            cur_cif_lines = []\n",
    "        else:\n",
    "            cur_cif_lines.append(line)"
   ]
  },
  {
   "cell_type": "code",
   "execution_count": 8,
   "metadata": {},
   "outputs": [],
   "source": [
    "# print(dict(Counter(cif_mineral_names)))"
   ]
  },
  {
   "cell_type": "markdown",
   "metadata": {},
   "source": [
    "# Combine"
   ]
  },
  {
   "cell_type": "markdown",
   "metadata": {},
   "source": [
    "### Decide on minerals"
   ]
  },
  {
   "cell_type": "code",
   "execution_count": 9,
   "metadata": {},
   "outputs": [
    {
     "name": "stdout",
     "output_type": "stream",
     "text": [
      "['Rhodochrosite', 'Thenardite', 'Andalusite', 'Eckermannite', 'Epidote', 'Fluorapatite', 'Chalcopyrite', 'Amblygonite', 'Smithsonite', 'Paravauxite', 'Aenigmatite', 'Strontianite', 'Muscovite', 'Pharmacosiderite', 'Nepheline', 'Pyrophyllite', 'Bobdownsite', 'Hardystonite', 'Brazilianite', 'Tugtupite', 'Corundum', 'Datolite', 'Magnesiofoitite', 'Enstatite', 'Chambersite', 'Vivianite', 'Olivenite', 'Siderite', 'Bikitaite', 'Azurite', 'Leucophanite', 'Petalite', 'Glauberite', 'Fluorophlogopite', 'Franciscanite', 'Creedite', 'Edingtonite', 'Paramontroseite', 'Aurichalcite', 'Goethite', 'Elbaite', 'Zwieselite', 'Monticellite', 'Akermanite', 'Pectolite', 'Pyrite', 'Osumilite', 'Staurolite', 'Mesolite', 'Stibioclaudetite', 'Ilvaite', 'Phlogopite', 'Barytocalcite', 'Celestine', 'Atacamite', 'Kurnakovite', 'Scorodite', 'Germanite', 'Astrophyllite', 'Kornerupine', 'Huntite', 'Groutite', 'Hubnerite', 'Tunellite', 'Natrolite', 'Paragonite', 'Magnetite', 'Libethenite', 'Sphalerite', 'Verplanckite', 'Vayrynenite', 'Dolomite', 'Magnesiochromite', 'Danburite', 'Chlorargyrite', 'Cavansite', 'Ekanite', 'Tremolite', 'Marialite', 'Albite', 'Gedrite', 'Chalcanthite', 'Lazulite', 'Scheelite', 'Trona', 'Prehnite', 'Tinzenite', 'Sinoite', 'Trilithionite', 'Hedenbergite', 'Baryte', 'Perovskite', 'Glaucophane', 'Lazurite', 'Epididymite', 'Narsarsukite', 'Whitlockite', 'Kyanite', 'Whewellite', 'Tellurite', 'Chalcocite', 'Euclase', 'Amarantite', 'Rutile', 'Yugawaralite', 'Polylithionite', 'Anthophyllite', 'Coesite', 'Babingtonite', 'Chlormayenite', 'Rosasite', 'Szaibelyite', 'Clinozoisite', 'Magnesioferrite', 'Yoshimuraite', 'Eudialyte', 'Helvine', 'Probertite', 'Cristobalite', 'Kanoite', 'Augelite', 'Benitoite', 'Colemanite', 'Salesite', 'Jacobsite', 'Painite', 'Jadeite', 'Devitoite', 'Kinoite', 'Witherite', 'Grossular', 'Diaoyudaoite', 'Sanbornite', 'Adamite', 'Gehlenite', 'Blodite', 'Dumortierite', 'Beryl', 'Montebrasite', 'Strengite', 'Magnesite', 'Powellite', 'Augite', 'Stannite', 'Topaz', 'Natrojarosite', 'Chrysoberyl', 'Bertrandite', 'Carrollite', 'Grunerite', 'Norbergite', 'Ferberite', 'Veszelyite', 'Huttonite', 'Diopside', 'Celsian', 'Lawsonite', 'Thomsenolite', 'Polydymite', 'Arfvedsonite', 'Aragonite', 'Tschermigite', 'Shattuckite', 'Anatase', 'Arsenopyrite', 'Schorl', 'Bustamite', 'Andradite', 'Covellite', 'Cinnabar', 'Tilleyite', 'Phenakite', 'Anorthite', 'Papagoite', 'Spodumene', 'Ferrowyllieite', 'Ankerite', 'Hausmannite', 'Cryolite', 'Hanksite', 'Brookite', 'Bromellite', 'Spurrite', 'Siegenite', 'Calcite', 'Zircon', 'Shortite', 'Clinochlore', 'Legrandite', 'Chondrodite', 'Rhodizite', 'Metatorbernite', 'Pseudomalachite', 'Fluorite', 'Cancrinite', 'Gaspeite', 'Braunite', 'Meionite', 'Variscite', 'Wohlerite', 'Talc', 'Olmiite', 'Titanite', 'Almandine', 'Anhydrite', 'Renierite', 'Ludlamite', 'Hafnon', 'Diaspore', 'Triplite', 'Serandite', 'Cornetite', 'Quartz', 'Spinel', 'Cordierite', 'Annite', 'Microcline', 'Laumontite', 'Szenicsite', 'Hematite', 'Analcime', 'Cassiterite', 'Thorite', 'Clinohumite', 'Chiolite', 'Hauyne', 'Pyroxmangite', 'Buseckite', 'Leiteite', 'Kutnohorite', 'Sodalite', 'Brucite', 'Phosphophyllite', 'Leucite', 'Chloritoid', 'Dravite', 'Turquoise', 'Rhodonite', 'Zoisite', 'Enargite', 'Ulexite', 'Forsterite', 'Hemimorphite', 'Clinoenstatite', 'Pollucite', 'Valentinite', 'Amesite', 'Gypsum', 'Aegirine', 'Vesuvianite', 'Baddeleyite', 'Straczekite', 'Orthoclase', 'Antlerite', 'Dioptase', 'Franklinite', 'Stibiotantalite', 'Pargasite', 'Tungstite', 'Gahnite', 'Erythrite', 'Cuprite', 'Scolecite', 'Humite', 'Actinolite', 'Fayalite', 'Conichalcite', 'Ferrosilite', 'Spessartine', 'Inderite', 'Vuonnemite', 'Heterosite', 'Arsenolite', 'Pyrope', 'Gaylussite', 'Triphylite', 'Hydroxylclinohumite', 'Uvarovite']\n",
      "278 / 7339\n"
     ]
    }
   ],
   "source": [
    "all_minerals = set(cif_mineral_names+raman_mineral_names)\n",
    "cif_counter = Counter(cif_mineral_names)\n",
    "raman_counter = Counter(raman_mineral_names)\n",
    "minimum_number_for_each = 1\n",
    "minerals_for_dataset = []\n",
    "for mineral in all_minerals:\n",
    "    if cif_counter[mineral] >= minimum_number_for_each and raman_counter[mineral] >= minimum_number_for_each:\n",
    "        minerals_for_dataset.append(mineral)\n",
    "minerals_for_dataset.remove('Diamond')\n",
    "minerals_for_dataset.remove('Sulphur')\n",
    "minerals_for_dataset.remove('Silicon')\n",
    "print(minerals_for_dataset)\n",
    "print(len(minerals_for_dataset),'/',len(all_minerals))"
   ]
  },
  {
   "cell_type": "markdown",
   "metadata": {},
   "source": [
    "### Pair them up"
   ]
  },
  {
   "cell_type": "code",
   "execution_count": 10,
   "metadata": {},
   "outputs": [
    {
     "name": "stderr",
     "output_type": "stream",
     "text": [
      "C:\\Users\\gordon\\anaconda3\\envs\\cs224wproj\\lib\\site-packages\\torch_geometric\\utils\\convert.py:164: UserWarning: Creating a tensor from a list of numpy.ndarrays is extremely slow. Please consider converting the list to a single numpy.ndarray with numpy.array() before converting to a tensor. (Triggered internally at  ..\\torch\\csrc\\utils\\tensor_new.cpp:201.)\n",
      "  data[key] = torch.tensor(value)\n"
     ]
    }
   ],
   "source": [
    "data_list = []\n",
    "for mineral in minerals_for_dataset:\n",
    "    cur_mineral_raman_indices = [i for i, x in enumerate(raman_mineral_names) if x == mineral]\n",
    "    cur_mineral_graph_indices = [i for i, x in enumerate(cif_mineral_names) if x == mineral]\n",
    "    for i_raman, i_graph in zip(cur_mineral_raman_indices,cur_mineral_graph_indices):\n",
    "        cur_graph = pyg.utils.convert.from_networkx(cif_graphs[i_graph])\n",
    "        cur_graph['y'] = raman_spectra[i_raman]\n",
    "        cur_graph['mineral'] = mineral\n",
    "        data_list.append(cur_graph)"
   ]
  },
  {
   "cell_type": "code",
   "execution_count": 11,
   "metadata": {},
   "outputs": [
    {
     "name": "stdout",
     "output_type": "stream",
     "text": [
      "2794 samples in the final dataset\n",
      "Each looks like: Data(x=[3, 5], edge_index=[2, 6], pos=[3, 3], element=[3], z=[3], dist=[6], y=[266], mineral='Rhodochrosite')\n"
     ]
    }
   ],
   "source": [
    "print(len(data_list), \"samples in the final dataset\")\n",
    "print(\"Each looks like:\",data_list[0])"
   ]
  },
  {
   "cell_type": "code",
   "execution_count": 12,
   "metadata": {},
   "outputs": [],
   "source": [
    "save_path = '../data/processed/v3.pt'\n",
    "data, slices, _ = pyg.data.collate.collate(\n",
    "    data_list[0].__class__,\n",
    "    data_list=data_list,\n",
    "    increment=False,\n",
    "    add_batch=True,\n",
    ")\n",
    "data.x = data.x.type(torch.FloatTensor)\n",
    "data.pos = data.pos.type(torch.FloatTensor)\n",
    "data.dist = data.dist.type(torch.FloatTensor)\n",
    "data.y = torch.stack([torch.Tensor(yi) for yi in data.y]).type(torch.FloatTensor)\n",
    "\n",
    "collated_data = (data, slices)\n",
    "torch.save(collated_data, save_path)"
   ]
  },
  {
   "cell_type": "code",
   "execution_count": 13,
   "metadata": {},
   "outputs": [
    {
     "name": "stdout",
     "output_type": "stream",
     "text": [
      "Data(x=[30037, 5], edge_index=[2, 543514], pos=[30037, 3], element=[2794], z=[30037], dist=[543514], y=[2794, 266], mineral=[2794], batch=[30037], ptr=[2795])\n"
     ]
    }
   ],
   "source": [
    "print(data)"
   ]
  }
 ],
 "metadata": {
  "interpreter": {
   "hash": "e81b1996025df2f1a5984068d96d4ebf8a8a993d84cca9df6e8f30f2a7223136"
  },
  "kernelspec": {
   "display_name": "Python 3.9.7 64-bit ('cs224wproj': conda)",
   "language": "python",
   "name": "python3"
  },
  "language_info": {
   "codemirror_mode": {
    "name": "ipython",
    "version": 3
   },
   "file_extension": ".py",
   "mimetype": "text/x-python",
   "name": "python",
   "nbconvert_exporter": "python",
   "pygments_lexer": "ipython3",
   "version": "3.9.7"
  },
  "orig_nbformat": 4
 },
 "nbformat": 4,
 "nbformat_minor": 2
}
