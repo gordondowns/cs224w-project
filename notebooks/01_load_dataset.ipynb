{
 "cells": [
  {
   "cell_type": "code",
   "execution_count": 1,
   "metadata": {},
   "outputs": [],
   "source": [
    "# auto-reload changed source files when they are imported\n",
    "%reload_ext autoreload\n",
    "%autoreload 2\n",
    "\n",
    "# add top repo dir to path so that src can be imported\n",
    "import sys\n",
    "sys.path.append(\"..\")\n",
    "\n",
    "%matplotlib inline"
   ]
  },
  {
   "cell_type": "markdown",
   "metadata": {},
   "source": [
    "# Imports"
   ]
  },
  {
   "cell_type": "code",
   "execution_count": 20,
   "metadata": {},
   "outputs": [],
   "source": [
    "from src.data import load_raman_spectra\n",
    "import glob\n",
    "import numpy as np\n",
    "from collections import Counter"
   ]
  },
  {
   "cell_type": "markdown",
   "metadata": {},
   "source": [
    "# Raman"
   ]
  },
  {
   "cell_type": "code",
   "execution_count": 21,
   "metadata": {},
   "outputs": [
    {
     "data": {
      "text/plain": [
       "('Abelsonite',\n",
       " 532,\n",
       " array([0.69842711, 0.69896184, 0.69858846, 0.74643274, 0.72949345,\n",
       "        0.78793888, 0.60722956, 0.29508071, 0.29044808, 0.28043752,\n",
       "        0.46705985, 0.13422788, 0.00596951, 0.02407432, 0.02073675,\n",
       "        0.1360224 , 0.14793432, 0.58032796, 0.39205618, 0.10990508,\n",
       "        0.40412146, 0.2598797 , 0.38066561, 0.14850761, 1.        ,\n",
       "        0.53162272, 0.00499501, 0.11940523, 0.56775302, 0.51175452,\n",
       "        0.39550698, 0.05001148, 0.04802603, 0.00930858, 0.00532165,\n",
       "        0.26057371, 0.09667703, 0.02044032, 0.10936421, 0.12025251,\n",
       "        0.05948381, 0.08570629, 0.06823977, 0.02057031, 0.04822269,\n",
       "        0.11819594, 0.05236448, 0.05744564, 0.10953358, 0.19399357]))"
      ]
     },
     "execution_count": 21,
     "metadata": {},
     "output_type": "execute_result"
    }
   ],
   "source": [
    "fp = \"../data/raw/raman/excellent_unoriented/Abelsonite__R070007__Raman__532__0__unoriented__Raman_Data_Processed__27040.txt\"\n",
    "model_wavenumber_values = np.arange(1000.0,500.0,-10.0)\n",
    "load_raman_spectra.load_single_raman_spectrum(model_wavenumber_values,fp)"
   ]
  },
  {
   "cell_type": "code",
   "execution_count": 22,
   "metadata": {},
   "outputs": [],
   "source": [
    "model_wavenumber_values = np.arange(1000.0,500.0,-10.0)\n",
    "chosen_wavelength = 514\n",
    "file_paths, mineral_names, raman_spectra, wavelengths = load_raman_spectra.load_raman_data(model_wavenumber_values,wavelength=chosen_wavelength)"
   ]
  },
  {
   "cell_type": "code",
   "execution_count": 25,
   "metadata": {},
   "outputs": [
    {
     "name": "stdout",
     "output_type": "stream",
     "text": [
      "4130\n",
      "wavelengths: {514: 4130}\n",
      "minerals: {'Actinolite': 61, 'Adamite': 20, 'Aegirine': 26, 'Aenigmatite': 15, 'Afmite': 1, 'Akermanite': 12, 'Albite': 70, 'Almandine': 25, 'Amblygonite': 19, 'Amesite': 6, 'Analcime': 17, 'Anatase': 6, 'Andalusite': 56, 'Andradite': 26, 'Anglesite': 24, 'Anhydrite': 20, 'Ankerite': 14, 'Annite': 26, 'Anorthite': 38, 'Aragonite': 19, 'Arfvedsonite': 12, 'Arsenopyrite': 12, 'Astrophyllite': 34, 'Atacamite': 9, 'Augelite': 14, 'Augite': 33, 'AxiniteFe': 104, 'Azurite': 24, 'Baddeleyite': 24, 'Barrerite': 10, 'Barysilite': 7, 'Baryte': 86, 'Bertrandite': 9, 'Beryl': 66, 'Bikitaite': 19, 'Bobdownsite': 7, 'Boleite': 4, 'Braunite': 21, 'Brazilianite': 38, 'Brookite': 19, 'Brucite': 7, 'Bustamite': 20, 'Calcite': 40, 'Cancrinite': 7, 'Carrollite': 6, 'Cassiterite': 25, 'Catapleiite': 35, 'Celestine': 20, 'Cerussite': 56, 'ChabaziteCa': 14, 'Chalcopyrite': 4, 'Chenevixite': 4, 'Chloritoid': 25, 'Chlormayenite': 1, 'Chondrodite': 13, 'Chrysoberyl': 9, 'Clinochlore': 6, 'Clinoenstatite': 3, 'Clinohumite': 11, 'ClinoptiloliteCa': 12, 'Clinozoisite': 26, 'Colemanite': 4, 'ColumbiteFe': 19, 'Cordierite': 30, 'Corundum': 11, 'Covellite': 18, 'Creedite': 13, 'Crocoite': 27, 'Cubiczirconia': 4, 'Cuprite': 7, 'Danburite': 31, 'Datolite': 26, 'Diamond': 16, 'Diaspore': 19, 'Diopside': 94, 'Dioptase': 14, 'Dolomite': 38, 'Dravite': 41, 'Edenite': 21, 'Edingtonite': 19, 'Elbaite': 44, 'Enstatite': 54, 'Epididymite': 18, 'Epidote': 74, 'ErioniteCa': 3, 'Erythrite': 13, 'Euclase': 13, 'Eudialyte': 20, 'Fayalite': 18, 'Ferberite': 35, 'Ferroactinolite': 6, 'Fluorapatite': 78, 'FluorapophylliteK': 21, 'Fluorbuergerite': 6, 'Fluorite': 17, 'Fluorophlogopite': 27, 'Fluororichterite': 13, 'Fluoruvite': 7, 'Forsterite': 58, 'Gahnite': 4, 'Gaspeite': 4, 'Gaylussite': 10, 'Gehlenite': 6, 'GmeliniteNa': 12, 'Goethite': 4, 'Grossular': 45, 'Grunerite': 4, 'Gypsum': 24, 'Hardystonite': 4, 'Hausmannite': 5, 'Hauyne': 9, 'Hedenbergite': 25, 'Hemimorphite': 10, 'HeulanditeCa': 49, 'Hubnerite': 23, 'Humite': 15, 'Huntite': 3, 'HydroxylbastnasiteCe': 7, 'Ilvaite': 12, 'Inderite': 13, 'Inyoite': 14, 'Jadeite': 13, 'Kanoite': 12, 'Kornerupine': 10, 'Kurnakovite': 20, 'Kutnohorite': 6, 'Kyanite': 20, 'Laumontite': 11, 'Laverovite': 18, 'Lawsonite': 10, 'Lazulite': 25, 'Legrandite': 10, 'Leucophanite': 12, 'Ludlamite': 13, 'Magnesiohastingsite': 12, 'Magnesite': 8, 'Marialite': 14, 'Meionite': 7, 'Mesolite': 19, 'Metatorbernite': 12, 'Microcline': 70, 'Mimetite': 20, 'MonaziteCe': 12, 'Montebrasite': 56, 'Monticellite': 10, 'Muscovite': 14, 'Natrolite': 33, 'Nepheline': 7, 'Olivenite': 10, 'Olmiite': 11, 'Orthoclase': 14, 'Painite': 6, 'Paravauxite': 17, 'Pectolite': 37, 'Pharmacosiderite': 6, 'Phenakite': 15, 'PhillipsiteCa': 13, 'Plumbophyllite': 1, 'Polylithionite': 12, 'Pyrite': 8, 'Pyromorphite': 22, 'Pyrope': 13, 'PyrosmaliteFe': 7, 'Quartz': 7, 'Rhodizite': 4, 'Rhodochrosite': 21, 'Rhodonite': 16, 'Riebeckite': 12, 'Rutile': 8, 'Sanbornite': 10, 'Scheelite': 14, 'Scholzite': 10, 'Scolecite': 26, 'Senegalite': 9, 'Serandite': 20, 'Shortite': 20, 'Siderite': 9, 'Silicon': 4, 'Sinoite': 1, 'Smithsonite': 8, 'Sodalite': 4, 'Spessartine': 5, 'Sphalerite': 14, 'Spodumene': 14, 'Staurolite': 10, 'Stellerite': 13, 'StilbiteCa': 14, 'Strontianite': 10, 'Sulphur': 20, 'Talc': 24, 'ThomsoniteCa': 19, 'Tilleyite': 12, 'Titanite': 51, 'Topaz': 33, 'Tremolite': 40, 'Trilithionite': 19, 'Triplite': 5, 'Vanadinite': 8, 'Vayrynenite': 12, 'Vesuvianite': 15, 'Vivianite': 14, 'Wavellite': 11, 'Weloganite': 7, 'Whewellite': 13, 'Whitlockite': 6, 'Witherite': 21, 'Wulfenite': 8, 'XenotimeY': 6, 'Zircon': 7, 'Zoisite': 20, 'AlumK': 1, 'Antlerite': 1, 'Arsenolite': 1, 'Aurichalcite': 1, 'AxiniteMn': 1, 'Barytocalcite': 1, 'BastnasiteCe': 2, 'Benitoite': 2, 'Blodite': 2, 'Boulangerite': 1, 'Bromellite': 1, 'Bultfonteinite': 1, 'CalcioancyliteCe': 1, 'Carletonite': 1, 'Cavansite': 1, 'CerianiteCe': 1, 'Chalcanthite': 2, 'Chalcocite': 1, 'Chambersite': 1, 'Chiolite': 1, 'Cinnabar': 1, 'Conichalcite': 2, 'Cornetite': 2, 'Cryolite': 1, 'Descloizite': 1, 'Diaboleite': 1, 'Duftite': 1, 'Enargite': 1, 'Franciscanite': 1, 'Glauberite': 1, 'Glaucophane': 1, 'Hanksite': 1, 'HydroxyapophylliteK': 1, 'Hydroxylclinohumite': 1, 'Kinoite': 2, 'Lazurite': 1, 'Leiteite': 1, 'Libethenite': 1, 'Margarosanite': 1, 'Moraesite': 1, 'Narsarsukite': 1, 'Natrojarosite': 1, 'Norbergite': 1, 'Orthoserpierite': 1, 'Papagoite': 1, 'Paralaurionite': 1, 'Pargasite': 1, 'ParisiteCe': 1, 'Petalite': 1, 'Phlogopite': 2, 'Phosphophyllite': 1, 'Pollucite': 2, 'Powellite': 1, 'Prehnite': 3, 'Protoferroanthophyllite': 1, 'Pseudomalachite': 1, 'Pyrophyllite': 2, 'Rosasite': 1, 'Salesite': 1, 'Schorl': 1, 'Shattuckite': 1, 'Spinel': 2, 'Spurrite': 1, 'Stannite': 1, 'Stibiotantalite': 1, 'Strengite': 1, 'Szaibelyite': 1, 'Szenicsite': 1, 'TapioliteFe': 1, 'Tellurite': 1, 'Thenardite': 2, 'Thomsenolite': 1, 'Thorite': 2, 'Tinzenite': 1, 'Triphylite': 1, 'Trona': 2, 'Tschermigite': 1, 'Tugtupite': 1, 'Tunellite': 1, 'Turquoise': 1, 'Tyrolite': 1, 'Ulexite': 1, 'Valentinite': 1, 'Variscite': 1, 'Veszelyite': 1, 'Vuonnemite': 1, 'Wohlerite': 1, 'Yoshimuraite': 1, 'Yugawaralite': 1, 'Zaratite': 1, 'Zemannite': 1, 'Zwieselite': 1, 'Buseckite': 1, 'Devitoite': 1, 'Amarantite': 1, 'ArrojaditeKNa': 1, 'Chrysocolla': 1, 'ColumbiteMn': 2, 'Ferrisurite': 1, 'Gedrite': 1, 'Germanite': 1, 'Gormanite': 1, 'Hematite': 1, 'Heterosite': 1, 'Hydrotalcite': 1, 'Leucite': 1, 'Paragonite': 1, 'Paramontroseite': 1, 'Perovskite': 1, 'Polydymite': 1, 'Probertite': 1, 'Renierite': 1, 'Siegenite': 1, 'Tungstite': 1, 'Uranophanealpha': 1, 'Verplanckite': 1, 'Xanthoxenite': 1}\n"
     ]
    }
   ],
   "source": [
    "print(len(mineral_names))\n",
    "print(\"wavelengths:\",dict(Counter(wavelengths))) # So, probably just go for 514 nm wavelength\n",
    "print(\"minerals:\",dict(Counter(mineral_names)))\n",
    "# consider removing minerals with fewer than 1-2 spectra"
   ]
  },
  {
   "cell_type": "markdown",
   "metadata": {},
   "source": [
    "# Crystal structures"
   ]
  },
  {
   "cell_type": "code",
   "execution_count": null,
   "metadata": {},
   "outputs": [],
   "source": []
  }
 ],
 "metadata": {
  "interpreter": {
   "hash": "e81b1996025df2f1a5984068d96d4ebf8a8a993d84cca9df6e8f30f2a7223136"
  },
  "kernelspec": {
   "display_name": "Python 3.9.7 64-bit ('cs224wproj': conda)",
   "language": "python",
   "name": "python3"
  },
  "language_info": {
   "codemirror_mode": {
    "name": "ipython",
    "version": 3
   },
   "file_extension": ".py",
   "mimetype": "text/x-python",
   "name": "python",
   "nbconvert_exporter": "python",
   "pygments_lexer": "ipython3",
   "version": "3.9.7"
  },
  "orig_nbformat": 4
 },
 "nbformat": 4,
 "nbformat_minor": 2
}
