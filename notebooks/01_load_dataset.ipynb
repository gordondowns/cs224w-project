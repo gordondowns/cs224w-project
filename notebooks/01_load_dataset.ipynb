{
 "cells": [
  {
   "cell_type": "code",
   "execution_count": null,
   "metadata": {},
   "outputs": [],
   "source": [
    "# auto-reload changed source files when they are imported\n",
    "%reload_ext autoreload\n",
    "%autoreload 2\n",
    "\n",
    "# add top repo dir to path so that src can be imported\n",
    "import sys\n",
    "sys.path.append(\"../..\")\n",
    "\n",
    "%matplotlib inline"
   ]
  },
  {
   "cell_type": "markdown",
   "metadata": {},
   "source": [
    "# Imports"
   ]
  },
  {
   "cell_type": "code",
   "execution_count": null,
   "metadata": {},
   "outputs": [],
   "source": [
    "from src.data import load_Raman_spectrum\n",
    "import glob\n"
   ]
  },
  {
   "cell_type": "code",
   "execution_count": null,
   "metadata": {},
   "outputs": [],
   "source": []
  }
 ],
 "metadata": {
  "interpreter": {
   "hash": "e81b1996025df2f1a5984068d96d4ebf8a8a993d84cca9df6e8f30f2a7223136"
  },
  "kernelspec": {
   "display_name": "Python 3.9.7 64-bit ('cs224wproj': conda)",
   "language": "python",
   "name": "python3"
  },
  "language_info": {
   "name": "python",
   "version": "3.9.7"
  },
  "orig_nbformat": 4
 },
 "nbformat": 4,
 "nbformat_minor": 2
}
