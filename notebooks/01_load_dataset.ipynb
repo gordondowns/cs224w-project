{
 "cells": [
  {
   "cell_type": "code",
   "execution_count": 1,
   "metadata": {},
   "outputs": [],
   "source": [
    "# auto-reload changed source files when they are imported\n",
    "%reload_ext autoreload\n",
    "%autoreload 2\n",
    "\n",
    "# add top repo dir to path so that src can be imported\n",
    "import sys\n",
    "sys.path.append(\"..\")\n",
    "\n",
    "%matplotlib inline"
   ]
  },
  {
   "cell_type": "markdown",
   "metadata": {},
   "source": [
    "# Imports"
   ]
  },
  {
   "cell_type": "code",
   "execution_count": 2,
   "metadata": {},
   "outputs": [],
   "source": [
    "from src.data import load_raman_spectra\n",
    "import glob\n",
    "import numpy as np\n",
    "from collections import Counter"
   ]
  },
  {
   "cell_type": "markdown",
   "metadata": {},
   "source": [
    "# Raman"
   ]
  },
  {
   "cell_type": "code",
   "execution_count": 10,
   "metadata": {},
   "outputs": [
    {
     "data": {
      "text/plain": [
       "('Abelsonite',\n",
       " 532,\n",
       " array([0.69842711, 0.69896184, 0.69858846, 0.74643274, 0.72949345,\n",
       "        0.78793888, 0.60722956, 0.29508071, 0.29044808, 0.28043752,\n",
       "        0.46705985, 0.13422788, 0.00596951, 0.02407432, 0.02073675,\n",
       "        0.1360224 , 0.14793432, 0.58032796, 0.39205618, 0.10990508,\n",
       "        0.40412146, 0.2598797 , 0.38066561, 0.14850761, 1.        ,\n",
       "        0.53162272, 0.00499501, 0.11940523, 0.56775302, 0.51175452,\n",
       "        0.39550698, 0.05001148, 0.04802603, 0.00930858, 0.00532165,\n",
       "        0.26057371, 0.09667703, 0.02044032, 0.10936421, 0.12025251,\n",
       "        0.05948381, 0.08570629, 0.06823977, 0.02057031, 0.04822269,\n",
       "        0.11819594, 0.05236448, 0.05744564, 0.10953358, 0.19399357]))"
      ]
     },
     "execution_count": 10,
     "metadata": {},
     "output_type": "execute_result"
    }
   ],
   "source": [
    "fp = \"../data/raw/raman/excellent_unoriented/Abelsonite__R070007__Raman__532__0__unoriented__Raman_Data_Processed__27040.txt\"\n",
    "model_wavenumber_values = np.arange(1000.0,500.0,-10.0)\n",
    "load_raman_spectra.load_single_raman_spectrum(model_wavenumber_values,fp)"
   ]
  },
  {
   "cell_type": "code",
   "execution_count": 17,
   "metadata": {},
   "outputs": [],
   "source": [
    "model_wavenumber_values = np.arange(1000.0,500.0,-10.0)\n",
    "chosen_wavelength = 514\n",
    "file_paths, mineral_names, raman_spectra, wavelengths = load_raman_spectra.load_raman_data(model_wavenumber_values,wavelength=chosen_wavelength)"
   ]
  },
  {
   "cell_type": "code",
   "execution_count": 18,
   "metadata": {},
   "outputs": [
    {
     "name": "stdout",
     "output_type": "stream",
     "text": [
      "4130\n"
     ]
    }
   ],
   "source": [
    "print(len(mineral_names))\n",
    "Counter(wavelengths)\n",
    "# So, probably just go for 514 nm wavelength"
   ]
  },
  {
   "cell_type": "markdown",
   "metadata": {},
   "source": [
    "# Crystal structures"
   ]
  },
  {
   "cell_type": "code",
   "execution_count": null,
   "metadata": {},
   "outputs": [],
   "source": []
  }
 ],
 "metadata": {
  "interpreter": {
   "hash": "e81b1996025df2f1a5984068d96d4ebf8a8a993d84cca9df6e8f30f2a7223136"
  },
  "kernelspec": {
   "display_name": "Python 3.9.7 64-bit ('cs224wproj': conda)",
   "language": "python",
   "name": "python3"
  },
  "language_info": {
   "codemirror_mode": {
    "name": "ipython",
    "version": 3
   },
   "file_extension": ".py",
   "mimetype": "text/x-python",
   "name": "python",
   "nbconvert_exporter": "python",
   "pygments_lexer": "ipython3",
   "version": "3.9.7"
  },
  "orig_nbformat": 4
 },
 "nbformat": 4,
 "nbformat_minor": 2
}
