{
 "cells": [
  {
   "cell_type": "code",
   "execution_count": 1,
   "metadata": {},
   "outputs": [],
   "source": [
    "# auto-reload changed source files when they are imported\n",
    "%reload_ext autoreload\n",
    "%autoreload 2\n",
    "\n",
    "# add top repo dir to path so that src can be imported\n",
    "import sys\n",
    "sys.path.append(\"..\")\n",
    "\n",
    "%matplotlib inline"
   ]
  },
  {
   "cell_type": "markdown",
   "metadata": {},
   "source": [
    "# Imports"
   ]
  },
  {
   "cell_type": "code",
   "execution_count": 3,
   "metadata": {},
   "outputs": [],
   "source": [
    "from src.data import load_raman_spectra, load_crystal_structures\n",
    "import glob\n",
    "import numpy as np\n",
    "from collections import Counter\n",
    "import torch_geometric as pyg\n",
    "import codecs"
   ]
  },
  {
   "cell_type": "markdown",
   "metadata": {},
   "source": [
    "# Raman"
   ]
  },
  {
   "cell_type": "code",
   "execution_count": 4,
   "metadata": {},
   "outputs": [
    {
     "data": {
      "text/plain": [
       "('Abelsonite',\n",
       " 532,\n",
       " array([0.69842711, 0.69896184, 0.69858846, 0.74643274, 0.72949345,\n",
       "        0.78793888, 0.60722956, 0.29508071, 0.29044808, 0.28043752,\n",
       "        0.46705985, 0.13422788, 0.00596951, 0.02407432, 0.02073675,\n",
       "        0.1360224 , 0.14793432, 0.58032796, 0.39205618, 0.10990508,\n",
       "        0.40412146, 0.2598797 , 0.38066561, 0.14850761, 1.        ,\n",
       "        0.53162272, 0.00499501, 0.11940523, 0.56775302, 0.51175452,\n",
       "        0.39550698, 0.05001148, 0.04802603, 0.00930858, 0.00532165,\n",
       "        0.26057371, 0.09667703, 0.02044032, 0.10936421, 0.12025251,\n",
       "        0.05948381, 0.08570629, 0.06823977, 0.02057031, 0.04822269,\n",
       "        0.11819594, 0.05236448, 0.05744564, 0.10953358, 0.19399357]))"
      ]
     },
     "execution_count": 4,
     "metadata": {},
     "output_type": "execute_result"
    }
   ],
   "source": [
    "fp = \"../data/raw/raman/excellent_unoriented/Abelsonite__R070007__Raman__532__0__unoriented__Raman_Data_Processed__27040.txt\"\n",
    "model_wavenumber_values = np.arange(1000.0,500.0,-10.0)\n",
    "load_raman_spectra.load_single_raman_spectrum(model_wavenumber_values,fp)"
   ]
  },
  {
   "cell_type": "code",
   "execution_count": 5,
   "metadata": {},
   "outputs": [],
   "source": [
    "model_wavenumber_values = np.arange(1000.0,500.0,-10.0)\n",
    "chosen_wavelength = 514\n",
    "raman_file_paths, raman_mineral_names, raman_spectra, raman_wavelengths = load_raman_spectra.load_raman_data(model_wavenumber_values,wavelength=chosen_wavelength)"
   ]
  },
  {
   "cell_type": "code",
   "execution_count": 6,
   "metadata": {},
   "outputs": [
    {
     "name": "stdout",
     "output_type": "stream",
     "text": [
      "4130\n",
      "wavelengths: {514: 4130}\n",
      "minerals: {'Actinolite': 61, 'Adamite': 20, 'Aegirine': 26, 'Aenigmatite': 15, 'Afmite': 1, 'Akermanite': 12, 'Albite': 70, 'Almandine': 25, 'Amblygonite': 19, 'Amesite': 6, 'Analcime': 17, 'Anatase': 6, 'Andalusite': 56, 'Andradite': 26, 'Anglesite': 24, 'Anhydrite': 20, 'Ankerite': 14, 'Annite': 26, 'Anorthite': 38, 'Aragonite': 19, 'Arfvedsonite': 12, 'Arsenopyrite': 12, 'Astrophyllite': 34, 'Atacamite': 9, 'Augelite': 14, 'Augite': 33, 'AxiniteFe': 104, 'Azurite': 24, 'Baddeleyite': 24, 'Barrerite': 10, 'Barysilite': 7, 'Baryte': 86, 'Bertrandite': 9, 'Beryl': 66, 'Bikitaite': 19, 'Bobdownsite': 7, 'Boleite': 4, 'Braunite': 21, 'Brazilianite': 38, 'Brookite': 19, 'Brucite': 7, 'Bustamite': 20, 'Calcite': 40, 'Cancrinite': 7, 'Carrollite': 6, 'Cassiterite': 25, 'Catapleiite': 35, 'Celestine': 20, 'Cerussite': 56, 'ChabaziteCa': 14, 'Chalcopyrite': 4, 'Chenevixite': 4, 'Chloritoid': 25, 'Chlormayenite': 1, 'Chondrodite': 13, 'Chrysoberyl': 9, 'Clinochlore': 6, 'Clinoenstatite': 3, 'Clinohumite': 11, 'ClinoptiloliteCa': 12, 'Clinozoisite': 26, 'Colemanite': 4, 'ColumbiteFe': 19, 'Cordierite': 30, 'Corundum': 11, 'Covellite': 18, 'Creedite': 13, 'Crocoite': 27, 'Cubiczirconia': 4, 'Cuprite': 7, 'Danburite': 31, 'Datolite': 26, 'Diamond': 16, 'Diaspore': 19, 'Diopside': 94, 'Dioptase': 14, 'Dolomite': 38, 'Dravite': 41, 'Edenite': 21, 'Edingtonite': 19, 'Elbaite': 44, 'Enstatite': 54, 'Epididymite': 18, 'Epidote': 74, 'ErioniteCa': 3, 'Erythrite': 13, 'Euclase': 13, 'Eudialyte': 20, 'Fayalite': 18, 'Ferberite': 35, 'Ferroactinolite': 6, 'Fluorapatite': 78, 'FluorapophylliteK': 21, 'Fluorbuergerite': 6, 'Fluorite': 17, 'Fluorophlogopite': 27, 'Fluororichterite': 13, 'Fluoruvite': 7, 'Forsterite': 58, 'Gahnite': 4, 'Gaspeite': 4, 'Gaylussite': 10, 'Gehlenite': 6, 'GmeliniteNa': 12, 'Goethite': 4, 'Grossular': 45, 'Grunerite': 4, 'Gypsum': 24, 'Hardystonite': 4, 'Hausmannite': 5, 'Hauyne': 9, 'Hedenbergite': 25, 'Hemimorphite': 10, 'HeulanditeCa': 49, 'Hubnerite': 23, 'Humite': 15, 'Huntite': 3, 'HydroxylbastnasiteCe': 7, 'Ilvaite': 12, 'Inderite': 13, 'Inyoite': 14, 'Jadeite': 13, 'Kanoite': 12, 'Kornerupine': 10, 'Kurnakovite': 20, 'Kutnohorite': 6, 'Kyanite': 20, 'Laumontite': 11, 'Laverovite': 18, 'Lawsonite': 10, 'Lazulite': 25, 'Legrandite': 10, 'Leucophanite': 12, 'Ludlamite': 13, 'Magnesiohastingsite': 12, 'Magnesite': 8, 'Marialite': 14, 'Meionite': 7, 'Mesolite': 19, 'Metatorbernite': 12, 'Microcline': 70, 'Mimetite': 20, 'MonaziteCe': 12, 'Montebrasite': 56, 'Monticellite': 10, 'Muscovite': 14, 'Natrolite': 33, 'Nepheline': 7, 'Olivenite': 10, 'Olmiite': 11, 'Orthoclase': 14, 'Painite': 6, 'Paravauxite': 17, 'Pectolite': 37, 'Pharmacosiderite': 6, 'Phenakite': 15, 'PhillipsiteCa': 13, 'Plumbophyllite': 1, 'Polylithionite': 12, 'Pyrite': 8, 'Pyromorphite': 22, 'Pyrope': 13, 'PyrosmaliteFe': 7, 'Quartz': 7, 'Rhodizite': 4, 'Rhodochrosite': 21, 'Rhodonite': 16, 'Riebeckite': 12, 'Rutile': 8, 'Sanbornite': 10, 'Scheelite': 14, 'Scholzite': 10, 'Scolecite': 26, 'Senegalite': 9, 'Serandite': 20, 'Shortite': 20, 'Siderite': 9, 'Silicon': 4, 'Sinoite': 1, 'Smithsonite': 8, 'Sodalite': 4, 'Spessartine': 5, 'Sphalerite': 14, 'Spodumene': 14, 'Staurolite': 10, 'Stellerite': 13, 'StilbiteCa': 14, 'Strontianite': 10, 'Sulphur': 20, 'Talc': 24, 'ThomsoniteCa': 19, 'Tilleyite': 12, 'Titanite': 51, 'Topaz': 33, 'Tremolite': 40, 'Trilithionite': 19, 'Triplite': 5, 'Vanadinite': 8, 'Vayrynenite': 12, 'Vesuvianite': 15, 'Vivianite': 14, 'Wavellite': 11, 'Weloganite': 7, 'Whewellite': 13, 'Whitlockite': 6, 'Witherite': 21, 'Wulfenite': 8, 'XenotimeY': 6, 'Zircon': 7, 'Zoisite': 20, 'AlumK': 1, 'Antlerite': 1, 'Arsenolite': 1, 'Aurichalcite': 1, 'AxiniteMn': 1, 'Barytocalcite': 1, 'BastnasiteCe': 2, 'Benitoite': 2, 'Blodite': 2, 'Boulangerite': 1, 'Bromellite': 1, 'Bultfonteinite': 1, 'CalcioancyliteCe': 1, 'Carletonite': 1, 'Cavansite': 1, 'CerianiteCe': 1, 'Chalcanthite': 2, 'Chalcocite': 1, 'Chambersite': 1, 'Chiolite': 1, 'Cinnabar': 1, 'Conichalcite': 2, 'Cornetite': 2, 'Cryolite': 1, 'Descloizite': 1, 'Diaboleite': 1, 'Duftite': 1, 'Enargite': 1, 'Franciscanite': 1, 'Glauberite': 1, 'Glaucophane': 1, 'Hanksite': 1, 'HydroxyapophylliteK': 1, 'Hydroxylclinohumite': 1, 'Kinoite': 2, 'Lazurite': 1, 'Leiteite': 1, 'Libethenite': 1, 'Margarosanite': 1, 'Moraesite': 1, 'Narsarsukite': 1, 'Natrojarosite': 1, 'Norbergite': 1, 'Orthoserpierite': 1, 'Papagoite': 1, 'Paralaurionite': 1, 'Pargasite': 1, 'ParisiteCe': 1, 'Petalite': 1, 'Phlogopite': 2, 'Phosphophyllite': 1, 'Pollucite': 2, 'Powellite': 1, 'Prehnite': 3, 'Protoferroanthophyllite': 1, 'Pseudomalachite': 1, 'Pyrophyllite': 2, 'Rosasite': 1, 'Salesite': 1, 'Schorl': 1, 'Shattuckite': 1, 'Spinel': 2, 'Spurrite': 1, 'Stannite': 1, 'Stibiotantalite': 1, 'Strengite': 1, 'Szaibelyite': 1, 'Szenicsite': 1, 'TapioliteFe': 1, 'Tellurite': 1, 'Thenardite': 2, 'Thomsenolite': 1, 'Thorite': 2, 'Tinzenite': 1, 'Triphylite': 1, 'Trona': 2, 'Tschermigite': 1, 'Tugtupite': 1, 'Tunellite': 1, 'Turquoise': 1, 'Tyrolite': 1, 'Ulexite': 1, 'Valentinite': 1, 'Variscite': 1, 'Veszelyite': 1, 'Vuonnemite': 1, 'Wohlerite': 1, 'Yoshimuraite': 1, 'Yugawaralite': 1, 'Zaratite': 1, 'Zemannite': 1, 'Zwieselite': 1, 'Buseckite': 1, 'Devitoite': 1, 'Amarantite': 1, 'ArrojaditeKNa': 1, 'Chrysocolla': 1, 'ColumbiteMn': 2, 'Ferrisurite': 1, 'Gedrite': 1, 'Germanite': 1, 'Gormanite': 1, 'Hematite': 1, 'Heterosite': 1, 'Hydrotalcite': 1, 'Leucite': 1, 'Paragonite': 1, 'Paramontroseite': 1, 'Perovskite': 1, 'Polydymite': 1, 'Probertite': 1, 'Renierite': 1, 'Siegenite': 1, 'Tungstite': 1, 'Uranophanealpha': 1, 'Verplanckite': 1, 'Xanthoxenite': 1}\n"
     ]
    }
   ],
   "source": [
    "print(len(raman_mineral_names))\n",
    "print(\"wavelengths:\",dict(Counter(raman_wavelengths))) # So, probably just go for 514 nm wavelength\n",
    "print(\"minerals:\",dict(Counter(raman_mineral_names)))\n",
    "# consider removing minerals with fewer than 1-2 spectra"
   ]
  },
  {
   "cell_type": "markdown",
   "metadata": {},
   "source": [
    "# Crystal structures"
   ]
  },
  {
   "cell_type": "code",
   "execution_count": 7,
   "metadata": {},
   "outputs": [
    {
     "name": "stdout",
     "output_type": "stream",
     "text": [
      "mineral name: Durangite\n",
      "cell parameters: [  6.5789   8.5071   7.0212  90.     115.447   90.    ]\n",
      "\n",
      "i el atomic_number atomic_weight electronegativity xyz occ Biso\n",
      "0 Na 11 22.99 0.93 0.95 1.0453884981633847\n",
      "1 Li 3 6.94 0.98 0.05 1.0453884981633847\n",
      "2 Al 13 26.982 1.61 0.91 0.4374208670562803\n",
      "3 Fe 26 55.845 1.83 0.09 0.4374208670562803\n",
      "4 As 33 74.922 2.18 1.0 0.3979424494519229\n",
      "5 O 8 15.999 3.44 1.0 0.7540377762432269\n",
      "6 O 8 15.999 3.44 1.0 0.6616582790490306\n",
      "7 F 9 18.998 3.98 0.73 0.5676996451506598\n",
      "8 O 8 15.999 3.44 0.27 0.5676996451506598\n"
     ]
    },
    {
     "data": {
      "image/png": "[encoded data removed]",
      "text/plain": [
       "<Figure size 432x288 with 1 Axes>"
      ]
     },
     "metadata": {},
     "output_type": "display_data"
    }
   ],
   "source": [
    "fp = \"../data/raw/CIFs2/Acuminite0010999.cif\"\n",
    "fp = \"../data/raw/CIFs2/Durangite0019593.cif\"\n",
    "mineral_name, G = load_crystal_structures.load_single_crystal_structure(fp,verbose=True)"
   ]
  },
  {
   "cell_type": "code",
   "execution_count": 8,
   "metadata": {},
   "outputs": [
    {
     "name": "stdout",
     "output_type": "stream",
     "text": [
      "mineral name: Durangite\n",
      "cell parameters: [  6.5789   8.5071   7.0212  90.     115.447   90.    ]\n",
      "\n",
      "i el atomic_number atomic_weight electronegativity xyz occ Biso\n",
      "0 Na 11 22.99 0.93 0.95 1.0453884981633847\n",
      "1 Li 3 6.94 0.98 0.05 1.0453884981633847\n",
      "2 Al 13 26.982 1.61 0.91 0.4374208670562803\n",
      "3 Fe 26 55.845 1.83 0.09 0.4374208670562803\n",
      "4 As 33 74.922 2.18 1.0 0.3979424494519229\n",
      "5 O 8 15.999 3.44 1.0 0.7540377762432269\n",
      "6 O 8 15.999 3.44 1.0 0.6616582790490306\n",
      "7 F 9 18.998 3.98 0.73 0.5676996451506598\n",
      "8 O 8 15.999 3.44 0.27 0.5676996451506598\n"
     ]
    },
    {
     "data": {
      "image/png": "[encoded data removed]",
      "text/plain": [
       "<Figure size 432x288 with 1 Axes>"
      ]
     },
     "metadata": {},
     "output_type": "display_data"
    }
   ],
   "source": [
    "mineral_name, G = load_crystal_structures.load_single_crystal_structure(fp,max_distance_for_edge=3.0,verbose=True)"
   ]
  },
  {
   "cell_type": "code",
   "execution_count": 9,
   "metadata": {},
   "outputs": [],
   "source": [
    "# cif_file_paths, cif_mineral_names, cif_graphs = load_crystal_structures.load_cif_data()\n",
    "# print(cif_mineral_names)"
   ]
  },
  {
   "cell_type": "code",
   "execution_count": 32,
   "metadata": {},
   "outputs": [
    {
     "name": "stderr",
     "output_type": "stream",
     "text": [
      "12:0: Trying to find one of data_value_1, start_sc_line\n",
      ">  _journal_page_last 289; doi:10.3390/cryst807\n",
      ">  ^\n",
      "12:0: Trying to find one of data_value_1, start_sc_line\n",
      ">  _journal_page_last 289; doi:10.3390/cryst807\n",
      ">  ^\n",
      "12:0: Trying to find one of data_value_1, start_sc_line\n",
      ">  _journal_page_last 289; doi:10.3390/cryst807\n",
      ">  ^\n",
      "12:0: Trying to find one of data_value_1, start_sc_line\n",
      ">  _journal_page_last 289; doi:10.3390/cryst807\n",
      ">  ^\n",
      "12:0: Trying to find one of data_value_1, start_sc_line\n",
      ">  _journal_page_last 289; doi:10.3390/cryst807\n",
      ">  ^\n",
      "12:0: Trying to find one of data_value_1, start_sc_line\n",
      ">  _journal_page_last 289; doi:10.3390/cryst807\n",
      ">  ^\n",
      "12:0: Trying to find one of data_value_1, start_sc_line\n",
      ">  _journal_page_last 289; doi:10.3390/cryst807\n",
      ">  ^\n",
      "12:0: Trying to find one of data_value_1, start_sc_line\n",
      ">  _journal_page_last 289; doi:10.3390/cryst807\n",
      ">  ^\n",
      "12:0: Trying to find one of data_value_1, start_sc_line\n",
      ">  _journal_page_last 289; doi:10.3390/cryst807\n",
      ">  ^\n",
      "12:0: Trying to find one of data_value_1, start_sc_line\n",
      ">  _journal_page_last 289; doi:10.3390/cryst807\n",
      ">  ^\n",
      "12:0: Trying to find one of data_value_1, start_sc_line\n",
      ">  _journal_page_last 289; doi:10.3390/cryst807\n",
      ">  ^\n",
      "12:0: Trying to find one of data_value_1, start_sc_line\n",
      ">  _journal_page_last 289; doi:10.3390/cryst807\n",
      ">  ^\n",
      "12:0: Trying to find one of data_value_1, start_sc_line\n",
      ">  _journal_page_last 289; doi:10.3390/cryst807\n",
      ">  ^\n",
      "12:0: Trying to find one of data_value_1, start_sc_line\n",
      ">  _journal_page_last 289; doi:10.3390/cryst807\n",
      ">  ^\n",
      "12:0: Trying to find one of data_value_1, start_sc_line\n",
      ">  _journal_page_last 289; doi:10.3390/cryst807\n",
      ">  ^\n",
      "12:0: Trying to find one of data_value_1, start_sc_line\n",
      ">  _journal_page_last 289; doi:10.3390/cryst807\n",
      ">  ^\n",
      "12:0: Trying to find one of data_value_1, start_sc_line\n",
      ">  _journal_page_last 289; doi:10.3390/cryst807\n",
      ">  ^\n",
      "12:0: Trying to find one of data_value_1, start_sc_line\n",
      ">  _journal_page_last 289; doi:10.3390/cryst807\n",
      ">  ^\n",
      "12:0: Trying to find one of data_value_1, start_sc_line\n",
      ">  _journal_page_last 289; doi:10.3390/cryst807\n",
      ">  ^\n",
      "12:0: Trying to find one of data_value_1, start_sc_line\n",
      ">  _journal_page_last 289; doi:10.3390/cryst807\n",
      ">  ^\n",
      "12:0: Trying to find one of data_value_1, start_sc_line\n",
      ">  _journal_page_last 289; doi:10.3390/cryst807\n",
      ">  ^\n",
      "12:0: Trying to find one of data_value_1, start_sc_line\n",
      ">  _journal_page_last 289; doi:10.3390/cryst807\n",
      ">  ^\n",
      "12:0: Trying to find one of data_value_1, start_sc_line\n",
      ">  _journal_page_last 289; doi:10.3390/cryst807\n",
      ">  ^\n",
      "12:0: Trying to find one of data_value_1, start_sc_line\n",
      ">  _journal_page_last 289; doi:10.3390/cryst807\n",
      ">  ^\n",
      "12:0: Trying to find one of data_value_1, start_sc_line\n",
      ">  _journal_page_last 289; doi:10.3390/cryst807\n",
      ">  ^\n",
      "12:0: Trying to find one of data_value_1, start_sc_line\n",
      ">  _journal_page_last 289; doi:10.3390/cryst807\n",
      ">  ^\n",
      "23:0: Trying to find one of data_value_1, start_sc_line\n",
      ">  _chemical_compound_source 'Synthetic'\n",
      ">  ^\n",
      "23:0: Trying to find one of data_value_1, start_sc_line\n",
      ">  _chemical_compound_source 'Synthetic'\n",
      ">  ^\n",
      "14:27: Trying to find one of LBLOCK, data_name, save_heading, save_end, END, data_heading\n",
      ">  _journal_page_first L24307 1\n",
      ">                             ^\n",
      "14:27: Trying to find one of LBLOCK, data_name, save_heading, save_end, END, data_heading\n",
      ">  _journal_page_first L24307 1\n",
      ">                             ^\n",
      "14:27: Trying to find one of LBLOCK, data_name, save_heading, save_end, END, data_heading\n",
      ">  _journal_page_first L24307 1\n",
      ">                             ^\n",
      "14:27: Trying to find one of LBLOCK, data_name, save_heading, save_end, END, data_heading\n",
      ">  _journal_page_first L24307 1\n",
      ">                             ^\n",
      "14:0: Trying to find one of data_value_1, start_sc_line\n",
      ">  _journal_page_last 164516\n",
      ">  ^\n",
      "14:0: Trying to find one of data_value_1, start_sc_line\n",
      ">  _journal_page_last 164516\n",
      ">  ^\n",
      "Incorrect number of loop values for loop containing ['_atom_site_label', '_atom_site_fract_x', '_atom_site_fract_y', '_atom_site_fract_z', '_atom_site_occupancy', '_atom_site_U_iso_or_equiv']\n",
      "Traceback (most recent call last):\n",
      "  File \"C:\\Users\\gordon\\anaconda3\\envs\\cs224wproj\\lib\\site-packages\\CifFile\\YappsStarParser_1_1.py\", line 80, in makeloop\n",
      "    target_block.CreateLoop(loop_seq)  #will raise ValueError on problem\n",
      "  File \"C:\\Users\\gordon\\anaconda3\\envs\\cs224wproj\\lib\\site-packages\\CifFile\\StarFile.py\", line 771, in CreateLoop\n",
      "    raise ValueError('Request to loop datanames %s with different lengths: %s' % (repr( datanames ),repr( len_set )))\n",
      "ValueError: Request to loop datanames ['_atom_site_label', '_atom_site_fract_x', '_atom_site_fract_y', '_atom_site_fract_z', '_atom_site_occupancy', '_atom_site_U_iso_or_equiv'] with different lengths: {27, 28}\n",
      "\n",
      "During handling of the above exception, another exception occurred:\n",
      "\n",
      "Traceback (most recent call last):\n",
      "  File \"C:\\Users\\gordon\\anaconda3\\envs\\cs224wproj\\lib\\site-packages\\CifFile\\StarFile.py\", line 2250, in ReadStar\n",
      "    proto_star = getattr(parser,\"input\")(prepared)\n",
      "  File \"C:\\Users\\gordon\\anaconda3\\envs\\cs224wproj\\lib\\site-packages\\CifFile\\YappsStarParser_1_1.py\", line 162, in input\n",
      "    dblock = self.dblock(prepared, _context)\n",
      "  File \"C:\\Users\\gordon\\anaconda3\\envs\\cs224wproj\\lib\\site-packages\\CifFile\\YappsStarParser_1_1.py\", line 182, in dblock\n",
      "    dataseq = self.dataseq(thisbc[heading], _context)\n",
      "  File \"C:\\Users\\gordon\\anaconda3\\envs\\cs224wproj\\lib\\site-packages\\CifFile\\YappsStarParser_1_1.py\", line 194, in dataseq\n",
      "    data = self.data(starblock, _context)\n",
      "  File \"C:\\Users\\gordon\\anaconda3\\envs\\cs224wproj\\lib\\site-packages\\CifFile\\YappsStarParser_1_1.py\", line 203, in data\n",
      "    makeloop(currentblock,top_loop)\n",
      "  File \"C:\\Users\\gordon\\anaconda3\\envs\\cs224wproj\\lib\\site-packages\\CifFile\\YappsStarParser_1_1.py\", line 84, in makeloop\n",
      "    raise ValueError(error_string)\n",
      "ValueError: Incorrect number of loop values for loop containing ['_atom_site_label', '_atom_site_fract_x', '_atom_site_fract_y', '_atom_site_fract_z', '_atom_site_occupancy', '_atom_site_U_iso_or_equiv']\n",
      "Incorrect number of loop values for loop containing ['_atom_site_label', '_atom_site_fract_x', '_atom_site_fract_y', '_atom_site_fract_z', '_atom_site_occupancy', '_atom_site_U_iso_or_equiv']\n",
      "Traceback (most recent call last):\n",
      "  File \"C:\\Users\\gordon\\anaconda3\\envs\\cs224wproj\\lib\\site-packages\\CifFile\\YappsStarParser_1_0.py\", line 80, in makeloop\n",
      "    target_block.CreateLoop(loop_seq)  #will raise ValueError on problem\n",
      "  File \"C:\\Users\\gordon\\anaconda3\\envs\\cs224wproj\\lib\\site-packages\\CifFile\\StarFile.py\", line 771, in CreateLoop\n",
      "    raise ValueError('Request to loop datanames %s with different lengths: %s' % (repr( datanames ),repr( len_set )))\n",
      "ValueError: Request to loop datanames ['_atom_site_label', '_atom_site_fract_x', '_atom_site_fract_y', '_atom_site_fract_z', '_atom_site_occupancy', '_atom_site_U_iso_or_equiv'] with different lengths: {27, 28}\n",
      "\n",
      "During handling of the above exception, another exception occurred:\n",
      "\n",
      "Traceback (most recent call last):\n",
      "  File \"C:\\Users\\gordon\\anaconda3\\envs\\cs224wproj\\lib\\site-packages\\CifFile\\StarFile.py\", line 2250, in ReadStar\n",
      "    proto_star = getattr(parser,\"input\")(prepared)\n",
      "  File \"C:\\Users\\gordon\\anaconda3\\envs\\cs224wproj\\lib\\site-packages\\CifFile\\YappsStarParser_1_0.py\", line 162, in input\n",
      "    dblock = self.dblock(prepared, _context)\n",
      "  File \"C:\\Users\\gordon\\anaconda3\\envs\\cs224wproj\\lib\\site-packages\\CifFile\\YappsStarParser_1_0.py\", line 182, in dblock\n",
      "    dataseq = self.dataseq(thisbc[heading], _context)\n",
      "  File \"C:\\Users\\gordon\\anaconda3\\envs\\cs224wproj\\lib\\site-packages\\CifFile\\YappsStarParser_1_0.py\", line 194, in dataseq\n",
      "    data = self.data(starblock, _context)\n",
      "  File \"C:\\Users\\gordon\\anaconda3\\envs\\cs224wproj\\lib\\site-packages\\CifFile\\YappsStarParser_1_0.py\", line 203, in data\n",
      "    makeloop(currentblock,top_loop)\n",
      "  File \"C:\\Users\\gordon\\anaconda3\\envs\\cs224wproj\\lib\\site-packages\\CifFile\\YappsStarParser_1_0.py\", line 84, in makeloop\n",
      "    raise ValueError(error_string)\n",
      "ValueError: Incorrect number of loop values for loop containing ['_atom_site_label', '_atom_site_fract_x', '_atom_site_fract_y', '_atom_site_fract_z', '_atom_site_occupancy', '_atom_site_U_iso_or_equiv']\n"
     ]
    },
    {
     "name": "stdout",
     "output_type": "stream",
     "text": [
      "Unexpected error:\n",
      "Unexpected error:\n"
     ]
    },
    {
     "name": "stderr",
     "output_type": "stream",
     "text": [
      "13:0: Trying to find one of data_value_1, start_sc_line\n",
      ">  _journal_page_last 8\n",
      ">  ^\n",
      "13:0: Trying to find one of data_value_1, start_sc_line\n",
      ">  _journal_page_last 8\n",
      ">  ^\n",
      "14:0: Trying to find one of data_value_1, start_sc_line\n",
      ">  _journal_page_last 33\n",
      ">  ^\n",
      "14:0: Trying to find one of data_value_1, start_sc_line\n",
      ">  _journal_page_last 33\n",
      ">  ^\n",
      "15:0: Trying to find one of data_value_1, start_sc_line\n",
      ">  _journal_page_last doi:10.3390\n",
      ">  ^\n",
      "15:0: Trying to find one of data_value_1, start_sc_line\n",
      ">  _journal_page_last doi:10.3390\n",
      ">  ^\n",
      "15:0: Trying to find one of data_value_1, start_sc_line\n",
      ">  _journal_page_last doi:10.3390\n",
      ">  ^\n",
      "15:0: Trying to find one of data_value_1, start_sc_line\n",
      ">  _journal_page_last doi:10.3390\n",
      ">  ^\n",
      "15:0: Trying to find one of data_value_1, start_sc_line\n",
      ">  _journal_page_last doi:10.3390\n",
      ">  ^\n",
      "15:0: Trying to find one of data_value_1, start_sc_line\n",
      ">  _journal_page_last doi:10.3390\n",
      ">  ^\n",
      "11:0: Trying to find one of data_value_1, start_sc_line\n",
      ">  _journal_year 1974\n",
      ">  ^\n",
      "11:0: Trying to find one of data_value_1, start_sc_line\n",
      ">  _journal_year 1974\n",
      ">  ^\n"
     ]
    }
   ],
   "source": [
    "cif_mineral_names = []\n",
    "cif_graphs = []\n",
    "big_cif_file_path = '../data/raw/cifdata.txt'\n",
    "temp_file_path = '../data/raw/tempcif.txt'\n",
    "cur_mineral_name = ''\n",
    "cur_cif_lines = []\n",
    "with open(big_cif_file_path,'r',errors='ignore') as f:\n",
    "    for line in f:\n",
    "        if line.startswith(\"_chemical_formula_sum ''\"):\n",
    "            continue\n",
    "        if line.startswith('_chemical_name_mineral'):\n",
    "            cur_mineral_name = line.split(\"'\")[1]\n",
    "        if line.startswith('_amcsd_formula_title '):\n",
    "            cur_mineral_name = line.split(\"'\")[1]\n",
    "        if line.startswith('END'):\n",
    "            try:\n",
    "                with codecs.open(temp_file_path,'w','utf-8') as out:\n",
    "                    out.write(''.join(cur_cif_lines))\n",
    "                cif_mineral_names.append(cur_mineral_name)\n",
    "                _,G = load_crystal_structures.load_single_crystal_structure(temp_file_path)\n",
    "                cif_graphs.append(G)\n",
    "            except:\n",
    "                pass\n",
    "            cur_cif_lines = []\n",
    "        else:\n",
    "            cur_cif_lines.append(line)"
   ]
  },
  {
   "cell_type": "code",
   "execution_count": 20,
   "metadata": {},
   "outputs": [],
   "source": [
    "# print(dict(Counter(cif_mineral_names)))"
   ]
  },
  {
   "cell_type": "markdown",
   "metadata": {},
   "source": [
    "# Combine"
   ]
  },
  {
   "cell_type": "code",
   "execution_count": null,
   "metadata": {},
   "outputs": [],
   "source": [
    "minerals_for_dataset = [\"Albite\", \"Beryl\", \"Calcite\"]\n",
    "dataset_list = []\n",
    "for mineral in minerals_for_dataset:\n",
    "    cur_mineral_raman_indices = [i for i, x in enumerate(raman_mineral_names) if x == mineral]\n",
    "    cur_mineral_graph_indices = [i for i, x in enumerate(cif_mineral_names) if x == mineral]\n",
    "    for i_raman, i_graph in zip(cur_mineral_raman_indices,cur_mineral_graph_indices):\n",
    "        dataset_list.append((pyg.utils.convert.from_networkx(cif_graphs[i_graph]),raman_spectra[i_raman]))"
   ]
  },
  {
   "cell_type": "code",
   "execution_count": null,
   "metadata": {},
   "outputs": [
    {
     "data": {
      "text/plain": [
       "Data(edge_index=[2, 328], element=[19], occ=[19], Biso=[19], atomic_number=[19], atomic_weight=[19], electronegativity=[19], dist=[328], num_nodes=19)"
      ]
     },
     "execution_count": 30,
     "metadata": {},
     "output_type": "execute_result"
    }
   ],
   "source": [
    "dataset_list[0][0]"
   ]
  },
  {
   "cell_type": "markdown",
   "metadata": {},
   "source": [
    "### Decide on minerals"
   ]
  },
  {
   "cell_type": "code",
   "execution_count": 33,
   "metadata": {},
   "outputs": [
    {
     "name": "stdout",
     "output_type": "stream",
     "text": [
      "['Orthoclase', 'Marialite', 'Braunite', 'Muscovite', 'Mimetite', 'Chondrodite', 'Dolomite', 'Pyrope', 'Corundum', 'Fluorite', 'Anorthite', 'Aegirine', 'Tremolite', 'Beryl', 'Microcline', 'Rhodonite', 'Datolite', 'Enstatite', 'Covellite', 'Akermanite', 'Fayalite', 'Forsterite', 'Ilvaite', 'Actinolite', 'Dravite', 'Calcite', 'Phenakite', 'Zoisite', 'Diopside', 'Kyanite', 'Almandine', 'Hedenbergite', 'Jadeite', 'Montebrasite', 'Spodumene', 'Lawsonite', 'Topaz', 'Andradite', 'Eudialyte', 'Bikitaite', 'Laumontite', 'Andalusite', 'Analcime', 'Aragonite', 'Serandite', 'Witherite', 'Diaspore', 'Cordierite', 'Albite', 'Staurolite', 'Fluorapatite', 'Clinozoisite', 'Gypsum', 'Polylithionite', 'Monticellite', 'Grossular', 'Annite', 'Edingtonite', 'Natrolite', 'Vesuvianite', 'Titanite']\n",
      "61 / 8619\n"
     ]
    }
   ],
   "source": [
    "all_minerals = set(cif_mineral_names+raman_mineral_names)\n",
    "cif_counter = Counter(cif_mineral_names)\n",
    "raman_counter = Counter(raman_mineral_names)\n",
    "minimum_number_for_each = 10\n",
    "minerals_for_dataset = []\n",
    "for mineral in all_minerals:\n",
    "    if cif_counter[mineral] >= minimum_number_for_each and raman_counter[mineral] >= minimum_number_for_each:\n",
    "        minerals_for_dataset.append(mineral)\n",
    "minerals_for_dataset.remove('Diamond')\n",
    "print(minerals_for_dataset)\n",
    "print(len(minerals_for_dataset),'/',len(all_minerals))"
   ]
  },
  {
   "cell_type": "markdown",
   "metadata": {},
   "source": [
    "### Pair them up"
   ]
  },
  {
   "cell_type": "code",
   "execution_count": 34,
   "metadata": {},
   "outputs": [],
   "source": [
    "dataset_list = []\n",
    "for mineral in minerals_for_dataset:\n",
    "    cur_mineral_raman_indices = [i for i, x in enumerate(raman_mineral_names) if x == mineral]\n",
    "    cur_mineral_graph_indices = [i for i, x in enumerate(cif_mineral_names) if x == mineral]\n",
    "    for i_raman, i_graph in zip(cur_mineral_raman_indices,cur_mineral_graph_indices):\n",
    "        dataset_list.append((pyg.utils.convert.from_networkx(cif_graphs[i_graph]),raman_spectra[i_raman]))"
   ]
  },
  {
   "cell_type": "code",
   "execution_count": 35,
   "metadata": {},
   "outputs": [
    {
     "name": "stdout",
     "output_type": "stream",
     "text": [
      "1328\n"
     ]
    }
   ],
   "source": [
    "print(len(dataset_list))"
   ]
  },
  {
   "cell_type": "code",
   "execution_count": null,
   "metadata": {},
   "outputs": [],
   "source": []
  }
 ],
 "metadata": {
  "interpreter": {
   "hash": "e81b1996025df2f1a5984068d96d4ebf8a8a993d84cca9df6e8f30f2a7223136"
  },
  "kernelspec": {
   "display_name": "Python 3.9.7 64-bit ('cs224wproj': conda)",
   "language": "python",
   "name": "python3"
  },
  "language_info": {
   "codemirror_mode": {
    "name": "ipython",
    "version": 3
   },
   "file_extension": ".py",
   "mimetype": "text/x-python",
   "name": "python",
   "nbconvert_exporter": "python",
   "pygments_lexer": "ipython3",
   "version": "3.9.7"
  },
  "orig_nbformat": 4
 },
 "nbformat": 4,
 "nbformat_minor": 2
}
