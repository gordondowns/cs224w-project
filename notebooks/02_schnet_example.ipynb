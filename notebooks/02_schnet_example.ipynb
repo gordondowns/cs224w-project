{
 "cells": [
  {
   "cell_type": "code",
   "execution_count": null,
   "metadata": {},
   "outputs": [],
   "source": [
    "import os.path as osp\n",
    "\n",
    "import torch\n",
    "\n",
    "from torch_geometric.nn import SchNet\n",
    "from torch_geometric.loader import DataLoader\n",
    "from torch_geometric.datasets import QM9"
   ]
  },
  {
   "cell_type": "code",
   "execution_count": null,
   "metadata": {},
   "outputs": [],
   "source": [
    "path = osp.join(osp.dirname(osp.realpath(__file__)), '..', 'data', 'QM9')\n",
    "dataset = QM9(path)\n",
    "\n",
    "device = torch.device('cuda' if torch.cuda.is_available() else 'cpu')"
   ]
  },
  {
   "cell_type": "code",
   "execution_count": null,
   "metadata": {},
   "outputs": [],
   "source": [
    "for target in range(12):\n",
    "    model, datasets = SchNet.from_qm9_pretrained(path, dataset, target)\n",
    "    train_dataset, val_dataset, test_dataset = datasets\n",
    "\n",
    "    model = model.to(device)\n",
    "    loader = DataLoader(test_dataset, batch_size=256)\n",
    "\n",
    "    maes = []\n",
    "    for data in loader:\n",
    "        data = data.to(device)\n",
    "        with torch.no_grad():\n",
    "            pred = model(data.z, data.pos, data.batch)\n",
    "        mae = (pred.view(-1) - data.y[:, target]).abs()\n",
    "        maes.append(mae)\n",
    "\n",
    "    mae = torch.cat(maes, dim=0)\n",
    "\n",
    "    # Report meV instead of eV.\n",
    "    mae = 1000 * mae if target in [2, 3, 4, 6, 7, 8, 9, 10] else mae\n",
    "\n",
    "    print(f'Target: {target:02d}, MAE: {mae.mean():.5f} ± {mae.std():.5f}')"
   ]
  },
  {
   "cell_type": "code",
   "execution_count": null,
   "metadata": {},
   "outputs": [],
   "source": []
  }
 ],
 "metadata": {
  "interpreter": {
   "hash": "e81b1996025df2f1a5984068d96d4ebf8a8a993d84cca9df6e8f30f2a7223136"
  },
  "kernelspec": {
   "display_name": "Python 3.9.7 64-bit ('cs224wproj': conda)",
   "language": "python",
   "name": "python3"
  },
  "language_info": {
   "codemirror_mode": {
    "name": "ipython",
    "version": 3
   },
   "file_extension": ".py",
   "mimetype": "text/x-python",
   "name": "python",
   "nbconvert_exporter": "python",
   "pygments_lexer": "ipython3",
   "version": "3.9.7"
  },
  "orig_nbformat": 4
 },
 "nbformat": 4,
 "nbformat_minor": 2
}
