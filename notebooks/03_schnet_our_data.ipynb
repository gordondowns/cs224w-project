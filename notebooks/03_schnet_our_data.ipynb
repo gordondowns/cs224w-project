{
 "cells": [
  {
   "cell_type": "code",
   "execution_count": null,
   "metadata": {},
   "outputs": [],
   "source": [
    "import os.path as osp\n",
    "\n",
    "import torch\n",
    "from torch.nn import Linear, ReLU, MSELoss\n",
    "\n",
    "from torch_geometric.nn import SchNet, Sequential\n",
    "from torch_geometric.loader import DataLoader\n",
    "from src.data.dataset import Crystals"
   ]
  },
  {
   "cell_type": "markdown",
   "metadata": {},
   "source": [
    "**Model**"
   ]
  },
  {
   "cell_type": "code",
   "execution_count": null,
   "metadata": {},
   "outputs": [],
   "source": [
    "# TODO: Dimensions for lin layers\n",
    "model = Sequential(\n",
    "    'z, pos',\n",
    "    [\n",
    "        Schnet(),\n",
    "        # Linear(),\n",
    "        # ReLU(inplace=True),\n",
    "        # Linear()\n",
    "    ]\n",
    ").to(device)"
   ]
  },
  {
   "cell_type": "markdown",
   "metadata": {},
   "source": [
    "**Init**"
   ]
  },
  {
   "cell_type": "code",
   "execution_count": null,
   "metadata": {},
   "outputs": [],
   "source": [
    "save_path = '../data/processed/v1.pt'\n",
    "dataset = Crystals(save_path)\n",
    "\n",
    "train_dataset, val_dataset, test_dataset = dataset.get_splits(deterministic=True)\n",
    "device = torch.device('cuda' if torch.cuda.is_available() else 'cpu')\n",
    "optimizer = torch.optim.Adam(model.parameters(), lr=0.01, weight_decay=5e-4)\n",
    "loss_fn = MSELoss()\n",
    "\n",
    "loader = DataLoader(test_dataset, batch_size=64)"
   ]
  },
  {
   "cell_type": "markdown",
   "metadata": {},
   "source": [
    "**Train loop**"
   ]
  },
  {
   "cell_type": "code",
   "execution_count": null,
   "metadata": {},
   "outputs": [],
   "source": [
    "\n",
    "model.train()\n",
    "for data in loadeer:\n",
    "    data = data.to(device)\n",
    "    pred = model(data.z, data.pos)\n",
    "\n",
    "    # TODO: make sure pred and data.y have same dim and have corresponding elements\n",
    "    loss = loss_fn(pred, data.y)\n",
    "    \n",
    "    loss.backward()\n",
    "    optimizer.step()\n",
    "    print(pred)\n",
    "    print(pred.shape)\n"
   ]
  }
 ],
 "metadata": {
  "language_info": {
   "name": "python"
  },
  "orig_nbformat": 4
 },
 "nbformat": 4,
 "nbformat_minor": 2
}
