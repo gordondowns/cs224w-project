{
 "cells": [
  {
   "cell_type": "code",
   "execution_count": 2,
   "metadata": {},
   "outputs": [],
   "source": [
    "# auto-reload changed source files when they are imported\n",
    "%reload_ext autoreload\n",
    "%autoreload 2\n",
    "\n",
    "# add top repo dir to path so that src can be imported\n",
    "import sys\n",
    "sys.path.append(\"..\")\n",
    "\n",
    "%matplotlib inline"
   ]
  },
  {
   "cell_type": "code",
   "execution_count": 6,
   "metadata": {},
   "outputs": [],
   "source": [
    "import os.path as osp\n",
    "\n",
    "import torch\n",
    "from torch.nn import Linear, ReLU, MSELoss\n",
    "\n",
    "from torch_geometric.nn import SchNet, Sequential\n",
    "from torch_geometric.loader import DataLoader\n",
    "from src.data.dataset import Crystals"
   ]
  },
  {
   "cell_type": "markdown",
   "metadata": {},
   "source": [
    "**Model**"
   ]
  },
  {
   "cell_type": "code",
   "execution_count": 7,
   "metadata": {},
   "outputs": [],
   "source": [
    "device = torch.device('cuda' if torch.cuda.is_available() else 'cpu')"
   ]
  },
  {
   "cell_type": "code",
   "execution_count": 10,
   "metadata": {},
   "outputs": [],
   "source": [
    "# TODO: Dimensions for lin layers\n",
    "model = Sequential(\n",
    "    'z, pos',\n",
    "    [\n",
    "        (SchNet(),'z, pos -> z'),\n",
    "        # Linear(),\n",
    "        # ReLU(inplace=True),\n",
    "        # Linear()\n",
    "    ]\n",
    ").to(device)"
   ]
  },
  {
   "cell_type": "markdown",
   "metadata": {},
   "source": [
    "**Init**"
   ]
  },
  {
   "cell_type": "code",
   "execution_count": 29,
   "metadata": {},
   "outputs": [
    {
     "data": {
      "text/plain": [
       "Data(x=[6, 5], edge_index=[2, 30], pos=[6, 3], element=[6], z=[6], dist=[30], y=[1, 50])"
      ]
     },
     "execution_count": 29,
     "metadata": {},
     "output_type": "execute_result"
    }
   ],
   "source": [
    "save_path = '../data/processed/v1.pt'\n",
    "dataset = Crystals(save_path)\n",
    "dataset[0]"
   ]
  },
  {
   "cell_type": "code",
   "execution_count": 32,
   "metadata": {},
   "outputs": [],
   "source": [
    "train_dataset, val_dataset, test_dataset = dataset.get_splits(deterministic=True)\n",
    "optimizer = torch.optim.Adam(model.parameters(), lr=0.01, weight_decay=5e-4)\n",
    "loss_fn = MSELoss()\n",
    "\n",
    "loader = DataLoader(train_dataset, batch_size=64)"
   ]
  },
  {
   "cell_type": "markdown",
   "metadata": {},
   "source": [
    "**Train loop**"
   ]
  },
  {
   "cell_type": "code",
   "execution_count": 42,
   "metadata": {},
   "outputs": [
    {
     "name": "stdout",
     "output_type": "stream",
     "text": [
      "0\n",
      "tensor([[-8.2378e+11]], device='cuda:0', grad_fn=<ScatterAddBackward0>)\n",
      "torch.Size([1, 1])\n",
      "1\n",
      "tensor([[-1.9723e+12]], device='cuda:0', grad_fn=<ScatterAddBackward0>)\n",
      "torch.Size([1, 1])\n",
      "2\n",
      "tensor([[-6.8465e+11]], device='cuda:0', grad_fn=<ScatterAddBackward0>)\n",
      "torch.Size([1, 1])\n",
      "3\n",
      "tensor([[1.9767e+13]], device='cuda:0', grad_fn=<ScatterAddBackward0>)\n",
      "torch.Size([1, 1])\n",
      "4\n",
      "tensor([[9.8255e+14]], device='cuda:0', grad_fn=<ScatterAddBackward0>)\n",
      "torch.Size([1, 1])\n",
      "5\n",
      "tensor([[-1.5826e+12]], device='cuda:0', grad_fn=<ScatterAddBackward0>)\n",
      "torch.Size([1, 1])\n",
      "6\n",
      "tensor([[-3.6235e+11]], device='cuda:0', grad_fn=<ScatterAddBackward0>)\n",
      "torch.Size([1, 1])\n",
      "7\n",
      "tensor([[-2.3530e+12]], device='cuda:0', grad_fn=<ScatterAddBackward0>)\n",
      "torch.Size([1, 1])\n",
      "8\n",
      "tensor([[-7.7574e+10]], device='cuda:0', grad_fn=<ScatterAddBackward0>)\n",
      "torch.Size([1, 1])\n",
      "9\n",
      "tensor([[1.5305e+13]], device='cuda:0', grad_fn=<ScatterAddBackward0>)\n",
      "torch.Size([1, 1])\n",
      "10\n",
      "tensor([[2.8242e+11]], device='cuda:0', grad_fn=<ScatterAddBackward0>)\n",
      "torch.Size([1, 1])\n",
      "11\n",
      "tensor([[1.4313e+14]], device='cuda:0', grad_fn=<ScatterAddBackward0>)\n",
      "torch.Size([1, 1])\n",
      "12\n",
      "tensor([[-5.7987e+11]], device='cuda:0', grad_fn=<ScatterAddBackward0>)\n",
      "torch.Size([1, 1])\n",
      "13\n",
      "tensor([[7.5039e+12]], device='cuda:0', grad_fn=<ScatterAddBackward0>)\n",
      "torch.Size([1, 1])\n"
     ]
    }
   ],
   "source": [
    "\n",
    "model.train()\n",
    "for i,data in enumerate(loader):\n",
    "    print(i)\n",
    "    data = data.to(device)\n",
    "    pred = model(data.z, data.pos)\n",
    "\n",
    "    # TODO: make sure pred and data.y have same dim and have corresponding elements\n",
    "    loss = loss_fn(pred, data.y)\n",
    "    \n",
    "    loss.backward()\n",
    "    optimizer.step()\n",
    "    print(pred)\n",
    "    print(pred.shape)\n"
   ]
  },
  {
   "cell_type": "code",
   "execution_count": null,
   "metadata": {},
   "outputs": [],
   "source": []
  }
 ],
 "metadata": {
  "interpreter": {
   "hash": "e81b1996025df2f1a5984068d96d4ebf8a8a993d84cca9df6e8f30f2a7223136"
  },
  "kernelspec": {
   "display_name": "Python 3.9.7 64-bit ('cs224wproj': conda)",
   "language": "python",
   "name": "python3"
  },
  "language_info": {
   "codemirror_mode": {
    "name": "ipython",
    "version": 3
   },
   "file_extension": ".py",
   "mimetype": "text/x-python",
   "name": "python",
   "nbconvert_exporter": "python",
   "pygments_lexer": "ipython3",
   "version": "3.9.7"
  },
  "orig_nbformat": 4
 },
 "nbformat": 4,
 "nbformat_minor": 2
}
